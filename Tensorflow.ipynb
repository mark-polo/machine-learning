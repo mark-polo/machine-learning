{
  "cells": [
    {
      "cell_type": "markdown",
      "metadata": {
        "id": "view-in-github",
        "colab_type": "text"
      },
      "source": [
        "<a href=\"https://colab.research.google.com/github/mark-polo/machine-learning/blob/main/Tensorflow.ipynb\" target=\"_parent\"><img src=\"https://colab.research.google.com/assets/colab-badge.svg\" alt=\"Open In Colab\"/></a>"
      ]
    },
    {
      "cell_type": "code",
      "execution_count": null,
      "metadata": {
        "id": "ffaohuYfcix0"
      },
      "outputs": [],
      "source": [
        "import tensorflow as tf\n",
        "import matplotlib.pyplot as plt\n",
        "import numpy as np"
      ]
    },
    {
      "cell_type": "markdown",
      "metadata": {
        "id": "r3x9u_brTABd"
      },
      "source": [
        "# **Basic**"
      ]
    },
    {
      "cell_type": "markdown",
      "metadata": {
        "id": "Scza3aMPl2MD"
      },
      "source": [
        "# **Variables**"
      ]
    },
    {
      "cell_type": "code",
      "execution_count": null,
      "metadata": {
        "id": "CQGbojqjflFF"
      },
      "outputs": [],
      "source": [
        "a = tf.constant(1)"
      ]
    },
    {
      "cell_type": "code",
      "execution_count": null,
      "metadata": {
        "colab": {
          "base_uri": "https://localhost:8080/"
        },
        "id": "gqIjgbukgvcf",
        "outputId": "ce5ab842-b142-4535-ffa7-7fc829ed5c00"
      },
      "outputs": [
        {
          "output_type": "execute_result",
          "data": {
            "text/plain": [
              "<tf.Tensor: shape=(), dtype=int32, numpy=1>"
            ]
          },
          "metadata": {},
          "execution_count": 3
        }
      ],
      "source": [
        "a"
      ]
    },
    {
      "cell_type": "code",
      "execution_count": null,
      "metadata": {
        "id": "r1mQmR4fgwIQ"
      },
      "outputs": [],
      "source": [
        "a2 = tf.cast(a, dtype=tf.float16)"
      ]
    },
    {
      "cell_type": "code",
      "execution_count": null,
      "metadata": {
        "colab": {
          "base_uri": "https://localhost:8080/"
        },
        "id": "nLm0VQp0hjt7",
        "outputId": "4120e214-cb49-4b3b-e836-c4c00d679a06"
      },
      "outputs": [
        {
          "output_type": "execute_result",
          "data": {
            "text/plain": [
              "<tf.Tensor: shape=(), dtype=float16, numpy=1.0>"
            ]
          },
          "metadata": {},
          "execution_count": 5
        }
      ],
      "source": [
        "a2"
      ]
    },
    {
      "cell_type": "code",
      "execution_count": null,
      "metadata": {
        "id": "Aj4BL7hfh9nH"
      },
      "outputs": [],
      "source": [
        "v1 = tf.Variable(1.2)"
      ]
    },
    {
      "cell_type": "code",
      "execution_count": null,
      "metadata": {
        "colab": {
          "base_uri": "https://localhost:8080/"
        },
        "id": "DGyv2BgLiCQW",
        "outputId": "f90426b8-3b2f-47bb-f291-e605c03f2827"
      },
      "outputs": [
        {
          "output_type": "execute_result",
          "data": {
            "text/plain": [
              "<tf.Variable 'Variable:0' shape=() dtype=float32, numpy=1.2>"
            ]
          },
          "metadata": {},
          "execution_count": 7
        }
      ],
      "source": [
        "v1"
      ]
    },
    {
      "cell_type": "code",
      "execution_count": null,
      "metadata": {
        "id": "DAVqwqFQiC6D"
      },
      "outputs": [],
      "source": [
        "v2 = tf.Variable([1,2,3,54], dtype=tf.float16)"
      ]
    },
    {
      "cell_type": "code",
      "execution_count": null,
      "metadata": {
        "colab": {
          "base_uri": "https://localhost:8080/"
        },
        "id": "ES3YWBytiPjO",
        "outputId": "15a01da4-e205-43a5-da50-b5dd431b8d2d"
      },
      "outputs": [
        {
          "output_type": "execute_result",
          "data": {
            "text/plain": [
              "<tf.Variable 'Variable:0' shape=(4,) dtype=float16, numpy=array([ 1.,  2.,  3., 54.], dtype=float16)>"
            ]
          },
          "metadata": {},
          "execution_count": 9
        }
      ],
      "source": [
        "v2"
      ]
    },
    {
      "cell_type": "code",
      "execution_count": null,
      "metadata": {
        "colab": {
          "base_uri": "https://localhost:8080/"
        },
        "id": "e0_dFKHiif-5",
        "outputId": "e0509d63-2e0f-447e-b080-8b9674276207"
      },
      "outputs": [
        {
          "output_type": "execute_result",
          "data": {
            "text/plain": [
              "<tf.Variable 'UnreadVariable' shape=() dtype=float32, numpy=9.0>"
            ]
          },
          "metadata": {},
          "execution_count": 10
        }
      ],
      "source": [
        "v1.assign(9)"
      ]
    },
    {
      "cell_type": "code",
      "execution_count": null,
      "metadata": {
        "colab": {
          "base_uri": "https://localhost:8080/"
        },
        "id": "jjLo9RNKijFd",
        "outputId": "3e439990-b42c-42f4-d7c4-46f9c52c185d"
      },
      "outputs": [
        {
          "output_type": "execute_result",
          "data": {
            "text/plain": [
              "<tf.Variable 'UnreadVariable' shape=(4,) dtype=float16, numpy=array([ 5.,  4.,  9., 63.], dtype=float16)>"
            ]
          },
          "metadata": {},
          "execution_count": 11
        }
      ],
      "source": [
        "v2.assign_add([4, 2, 6, 9])"
      ]
    },
    {
      "cell_type": "code",
      "execution_count": null,
      "metadata": {
        "colab": {
          "base_uri": "https://localhost:8080/"
        },
        "id": "4VPVNeMBjB1e",
        "outputId": "41bc077b-ea02-4c54-c610-c8c249a06a05"
      },
      "outputs": [
        {
          "output_type": "execute_result",
          "data": {
            "text/plain": [
              "<tf.Variable 'UnreadVariable' shape=() dtype=float32, numpy=1.0>"
            ]
          },
          "metadata": {},
          "execution_count": 12
        }
      ],
      "source": [
        "v1.assign_sub(8)"
      ]
    },
    {
      "cell_type": "code",
      "execution_count": null,
      "metadata": {
        "id": "W9F7j-Cojqnp"
      },
      "outputs": [],
      "source": [
        "v2_index = v2[2]"
      ]
    },
    {
      "cell_type": "code",
      "execution_count": null,
      "metadata": {
        "colab": {
          "base_uri": "https://localhost:8080/"
        },
        "id": "uJ1g1UGAjzHb",
        "outputId": "b2ea11eb-3a6f-4ea1-d8f9-046693390393"
      },
      "outputs": [
        {
          "output_type": "execute_result",
          "data": {
            "text/plain": [
              "<tf.Tensor: shape=(), dtype=float16, numpy=9.0>"
            ]
          },
          "metadata": {},
          "execution_count": 14
        }
      ],
      "source": [
        "v2_index"
      ]
    },
    {
      "cell_type": "code",
      "execution_count": null,
      "metadata": {
        "id": "QDe0OCM3jzfc"
      },
      "outputs": [],
      "source": [
        "v2_index_1 = v2[0:3]"
      ]
    },
    {
      "cell_type": "code",
      "execution_count": null,
      "metadata": {
        "colab": {
          "base_uri": "https://localhost:8080/"
        },
        "id": "lUicAV9Fj7kS",
        "outputId": "fb3244b3-dd4f-47dc-b638-c37e5d5a87d2"
      },
      "outputs": [
        {
          "output_type": "execute_result",
          "data": {
            "text/plain": [
              "<tf.Tensor: shape=(3,), dtype=float16, numpy=array([5., 4., 9.], dtype=float16)>"
            ]
          },
          "metadata": {},
          "execution_count": 16
        }
      ],
      "source": [
        "v2_index_1"
      ]
    },
    {
      "cell_type": "code",
      "execution_count": null,
      "metadata": {
        "id": "4smRzXHdj76P"
      },
      "outputs": [],
      "source": [
        "v_gather = tf.gather(v2, [0, 2])"
      ]
    },
    {
      "cell_type": "code",
      "execution_count": null,
      "metadata": {
        "colab": {
          "base_uri": "https://localhost:8080/"
        },
        "id": "hpoykxkikc-e",
        "outputId": "0b6fb507-364c-4167-867d-b56ab30f1146"
      },
      "outputs": [
        {
          "output_type": "execute_result",
          "data": {
            "text/plain": [
              "<tf.Tensor: shape=(2,), dtype=float16, numpy=array([5., 9.], dtype=float16)>"
            ]
          },
          "metadata": {},
          "execution_count": 18
        }
      ],
      "source": [
        "v_gather"
      ]
    },
    {
      "cell_type": "code",
      "execution_count": null,
      "metadata": {
        "id": "aZ7w76eRkdSa"
      },
      "outputs": [],
      "source": [
        "a = tf.constant(range(30))"
      ]
    },
    {
      "cell_type": "code",
      "execution_count": null,
      "metadata": {
        "id": "aCgZYvs_lPDZ"
      },
      "outputs": [],
      "source": [
        "b = tf.reshape(a, [5,6])"
      ]
    },
    {
      "cell_type": "code",
      "execution_count": null,
      "metadata": {
        "colab": {
          "base_uri": "https://localhost:8080/"
        },
        "id": "Moxi5ZHXlUGL",
        "outputId": "eeca2662-4006-49e5-e0b2-c8f40f9459a2"
      },
      "outputs": [
        {
          "output_type": "execute_result",
          "data": {
            "text/plain": [
              "<tf.Tensor: shape=(30,), dtype=int32, numpy=\n",
              "array([ 0,  1,  2,  3,  4,  5,  6,  7,  8,  9, 10, 11, 12, 13, 14, 15, 16,\n",
              "       17, 18, 19, 20, 21, 22, 23, 24, 25, 26, 27, 28, 29], dtype=int32)>"
            ]
          },
          "metadata": {},
          "execution_count": 21
        }
      ],
      "source": [
        "a"
      ]
    },
    {
      "cell_type": "code",
      "execution_count": null,
      "metadata": {
        "colab": {
          "base_uri": "https://localhost:8080/"
        },
        "id": "l65GxRNulU2l",
        "outputId": "f9cef17c-31b3-4dbf-d3a2-8a68213e08b5"
      },
      "outputs": [
        {
          "output_type": "execute_result",
          "data": {
            "text/plain": [
              "array([[ 0,  1,  2,  3,  4,  5],\n",
              "       [ 6,  7,  8,  9, 10, 11],\n",
              "       [12, 13, 14, 15, 16, 17],\n",
              "       [18, 19, 20, 21, 22, 23],\n",
              "       [24, 25, 26, 27, 28, 29]], dtype=int32)"
            ]
          },
          "metadata": {},
          "execution_count": 22
        }
      ],
      "source": [
        "b.numpy()"
      ]
    },
    {
      "cell_type": "markdown",
      "metadata": {
        "id": "Lg1vlRZpl7bU"
      },
      "source": [
        "# **Functions**"
      ]
    },
    {
      "cell_type": "code",
      "execution_count": null,
      "metadata": {
        "id": "Wda5HbFOlVlZ"
      },
      "outputs": [],
      "source": [
        "a = tf.zeros((3,3))"
      ]
    },
    {
      "cell_type": "code",
      "execution_count": null,
      "metadata": {
        "colab": {
          "base_uri": "https://localhost:8080/"
        },
        "id": "Qx7PHnsYnC_2",
        "outputId": "412cdfb6-f78a-4557-811a-5587cb86c6a8"
      },
      "outputs": [
        {
          "output_type": "execute_result",
          "data": {
            "text/plain": [
              "<tf.Tensor: shape=(3, 3), dtype=float32, numpy=\n",
              "array([[0., 0., 0.],\n",
              "       [0., 0., 0.],\n",
              "       [0., 0., 0.]], dtype=float32)>"
            ]
          },
          "metadata": {},
          "execution_count": 24
        }
      ],
      "source": [
        "a"
      ]
    },
    {
      "cell_type": "code",
      "execution_count": null,
      "metadata": {
        "id": "nd7Qkil0nDsz"
      },
      "outputs": [],
      "source": [
        "b = tf.ones((4,5))"
      ]
    },
    {
      "cell_type": "code",
      "execution_count": null,
      "metadata": {
        "id": "sSm2WjqWnSni"
      },
      "outputs": [],
      "source": [
        "c = tf.ones_like(a)"
      ]
    },
    {
      "cell_type": "code",
      "execution_count": null,
      "metadata": {
        "colab": {
          "base_uri": "https://localhost:8080/"
        },
        "id": "dlCq80XEnWet",
        "outputId": "7a156905-8128-44be-9cf0-763841aa4487"
      },
      "outputs": [
        {
          "output_type": "execute_result",
          "data": {
            "text/plain": [
              "<tf.Tensor: shape=(3, 3), dtype=float32, numpy=\n",
              "array([[1., 1., 1.],\n",
              "       [1., 1., 1.],\n",
              "       [1., 1., 1.]], dtype=float32)>"
            ]
          },
          "metadata": {},
          "execution_count": 27
        }
      ],
      "source": [
        "c"
      ]
    },
    {
      "cell_type": "code",
      "execution_count": null,
      "metadata": {
        "id": "WdPP97a0nWy_"
      },
      "outputs": [],
      "source": [
        "d = tf.eye(3)"
      ]
    },
    {
      "cell_type": "code",
      "execution_count": null,
      "metadata": {
        "colab": {
          "base_uri": "https://localhost:8080/"
        },
        "id": "Is-lYIsxnjm-",
        "outputId": "422578d6-970c-483b-f3ad-95f4245d1302"
      },
      "outputs": [
        {
          "output_type": "execute_result",
          "data": {
            "text/plain": [
              "<tf.Tensor: shape=(3, 3), dtype=float32, numpy=\n",
              "array([[1., 0., 0.],\n",
              "       [0., 1., 0.],\n",
              "       [0., 0., 1.]], dtype=float32)>"
            ]
          },
          "metadata": {},
          "execution_count": 29
        }
      ],
      "source": [
        "d"
      ]
    },
    {
      "cell_type": "code",
      "execution_count": null,
      "metadata": {
        "id": "_Q9ySMOTnkAq"
      },
      "outputs": [],
      "source": [
        "e = tf.identity(c)"
      ]
    },
    {
      "cell_type": "code",
      "execution_count": null,
      "metadata": {
        "colab": {
          "base_uri": "https://localhost:8080/"
        },
        "id": "0OLPRsNEnwtX",
        "outputId": "4ad89c5f-e546-44b6-fa2f-6c2cdd5cdbc3"
      },
      "outputs": [
        {
          "output_type": "execute_result",
          "data": {
            "text/plain": [
              "<tf.Tensor: shape=(3, 3), dtype=float32, numpy=\n",
              "array([[1., 1., 1.],\n",
              "       [1., 1., 1.],\n",
              "       [1., 1., 1.]], dtype=float32)>"
            ]
          },
          "metadata": {},
          "execution_count": 31
        }
      ],
      "source": [
        "e"
      ]
    },
    {
      "cell_type": "code",
      "execution_count": null,
      "metadata": {
        "id": "qLko4ZWinxIm"
      },
      "outputs": [],
      "source": [
        "f = tf.fill((6,6), 0.897)"
      ]
    },
    {
      "cell_type": "code",
      "execution_count": null,
      "metadata": {
        "colab": {
          "base_uri": "https://localhost:8080/"
        },
        "id": "w5Z3m0mPn69m",
        "outputId": "d4b9e110-ce9c-4759-9a37-57c041ef8fae"
      },
      "outputs": [
        {
          "output_type": "execute_result",
          "data": {
            "text/plain": [
              "<tf.Tensor: shape=(6, 6), dtype=float32, numpy=\n",
              "array([[0.897, 0.897, 0.897, 0.897, 0.897, 0.897],\n",
              "       [0.897, 0.897, 0.897, 0.897, 0.897, 0.897],\n",
              "       [0.897, 0.897, 0.897, 0.897, 0.897, 0.897],\n",
              "       [0.897, 0.897, 0.897, 0.897, 0.897, 0.897],\n",
              "       [0.897, 0.897, 0.897, 0.897, 0.897, 0.897],\n",
              "       [0.897, 0.897, 0.897, 0.897, 0.897, 0.897]], dtype=float32)>"
            ]
          },
          "metadata": {},
          "execution_count": 33
        }
      ],
      "source": [
        "f"
      ]
    },
    {
      "cell_type": "code",
      "execution_count": null,
      "metadata": {
        "id": "vMZNabhmn7bh"
      },
      "outputs": [],
      "source": [
        "g = tf.range(1,20, 0.37)"
      ]
    },
    {
      "cell_type": "code",
      "execution_count": null,
      "metadata": {
        "colab": {
          "base_uri": "https://localhost:8080/"
        },
        "id": "4toIuN6LoHVU",
        "outputId": "6861c0af-e9d6-45e5-a87f-90789a3c6843"
      },
      "outputs": [
        {
          "output_type": "execute_result",
          "data": {
            "text/plain": [
              "<tf.Tensor: shape=(52,), dtype=float32, numpy=\n",
              "array([ 1.       ,  1.37     ,  1.74     ,  2.1100001,  2.48     ,\n",
              "        2.85     ,  3.2199998,  3.5899997,  3.9599996,  4.3299994,\n",
              "        4.6999993,  5.069999 ,  5.439999 ,  5.809999 ,  6.179999 ,\n",
              "        6.5499988,  6.9199986,  7.2899985,  7.6599984,  8.029999 ,\n",
              "        8.399999 ,  8.769999 ,  9.139998 ,  9.509998 ,  9.879998 ,\n",
              "       10.249998 , 10.619998 , 10.989998 , 11.359998 , 11.729998 ,\n",
              "       12.0999975, 12.469997 , 12.839997 , 13.209997 , 13.579997 ,\n",
              "       13.949997 , 14.319997 , 14.689997 , 15.059997 , 15.4299965,\n",
              "       15.799996 , 16.169996 , 16.539997 , 16.909998 , 17.279999 ,\n",
              "       17.65     , 18.02     , 18.390001 , 18.760002 , 19.130003 ,\n",
              "       19.500004 , 19.870005 ], dtype=float32)>"
            ]
          },
          "metadata": {},
          "execution_count": 35
        }
      ],
      "source": [
        "g"
      ]
    },
    {
      "cell_type": "code",
      "execution_count": null,
      "metadata": {
        "id": "akhvm16MoHtn"
      },
      "outputs": [],
      "source": [
        "e = tf.random.normal((2,4), 2, 1)"
      ]
    },
    {
      "cell_type": "code",
      "execution_count": null,
      "metadata": {
        "colab": {
          "base_uri": "https://localhost:8080/"
        },
        "id": "RqiKw4BKu2Zg",
        "outputId": "195802aa-fb4f-44e7-b566-d9c4eedb59b0"
      },
      "outputs": [
        {
          "output_type": "execute_result",
          "data": {
            "text/plain": [
              "<tf.Tensor: shape=(2, 4), dtype=float32, numpy=\n",
              "array([[3.2099123 , 2.9121883 , 2.0302448 , 1.2385931 ],\n",
              "       [2.4425297 , 0.9110205 , 0.55158067, 1.6165261 ]], dtype=float32)>"
            ]
          },
          "metadata": {},
          "execution_count": 37
        }
      ],
      "source": [
        "e"
      ]
    },
    {
      "cell_type": "code",
      "execution_count": null,
      "metadata": {
        "id": "7TUadpQyu2xO"
      },
      "outputs": [],
      "source": [
        "f = tf.random.uniform((2,2), -1, 1)"
      ]
    },
    {
      "cell_type": "code",
      "execution_count": null,
      "metadata": {
        "colab": {
          "base_uri": "https://localhost:8080/"
        },
        "id": "Sfa1ypdVvCaN",
        "outputId": "fc9fe1c3-ae2d-4666-ed51-9307c40ea7e5"
      },
      "outputs": [
        {
          "output_type": "execute_result",
          "data": {
            "text/plain": [
              "<tf.Tensor: shape=(2, 2), dtype=float32, numpy=\n",
              "array([[-0.35115528, -0.94841146],\n",
              "       [ 0.5581379 ,  0.34296727]], dtype=float32)>"
            ]
          },
          "metadata": {},
          "execution_count": 39
        }
      ],
      "source": [
        "f"
      ]
    },
    {
      "cell_type": "code",
      "execution_count": null,
      "metadata": {
        "id": "Tgq_IVECvCx6"
      },
      "outputs": [],
      "source": [
        "a = tf.Variable([1,4,6,7])\n",
        "\n",
        "b = tf.Variable([1,9,3,5])"
      ]
    },
    {
      "cell_type": "code",
      "execution_count": null,
      "metadata": {
        "colab": {
          "base_uri": "https://localhost:8080/"
        },
        "id": "cSVGCnO61p1a",
        "outputId": "3ede523f-b26c-494b-d5dc-2db4cbe69ae5"
      },
      "outputs": [
        {
          "output_type": "execute_result",
          "data": {
            "text/plain": [
              "<tf.Tensor: shape=(4,), dtype=int32, numpy=array([ 2, 13,  9, 12], dtype=int32)>"
            ]
          },
          "metadata": {},
          "execution_count": 41
        }
      ],
      "source": [
        "tf.add(a,b)"
      ]
    },
    {
      "cell_type": "code",
      "execution_count": null,
      "metadata": {
        "colab": {
          "base_uri": "https://localhost:8080/"
        },
        "id": "-VJ-gvD914kU",
        "outputId": "553f4281-d3b1-442a-fb5b-04e07654ac23"
      },
      "outputs": [
        {
          "output_type": "execute_result",
          "data": {
            "text/plain": [
              "<tf.Tensor: shape=(4,), dtype=int32, numpy=array([ 0, -5,  3,  2], dtype=int32)>"
            ]
          },
          "metadata": {},
          "execution_count": 42
        }
      ],
      "source": [
        "tf.subtract(a, b)"
      ]
    },
    {
      "cell_type": "code",
      "execution_count": null,
      "metadata": {
        "colab": {
          "base_uri": "https://localhost:8080/"
        },
        "id": "kUBMP1El2Pp1",
        "outputId": "3a768d7d-ca25-4851-9d7c-ad7243bde9ba"
      },
      "outputs": [
        {
          "output_type": "execute_result",
          "data": {
            "text/plain": [
              "<tf.Tensor: shape=(4, 4), dtype=int32, numpy=\n",
              "array([[ 1,  9,  3,  5],\n",
              "       [ 4, 36, 12, 20],\n",
              "       [ 6, 54, 18, 30],\n",
              "       [ 7, 63, 21, 35]], dtype=int32)>"
            ]
          },
          "metadata": {},
          "execution_count": 43
        }
      ],
      "source": [
        "tf.tensordot(a,b, axes=0)"
      ]
    },
    {
      "cell_type": "code",
      "execution_count": null,
      "metadata": {
        "colab": {
          "base_uri": "https://localhost:8080/"
        },
        "id": "IP78oC-M2dwM",
        "outputId": "1aa354cd-1a37-423d-a015-0887c823c3ad"
      },
      "outputs": [
        {
          "output_type": "execute_result",
          "data": {
            "text/plain": [
              "<tf.Tensor: shape=(), dtype=int32, numpy=90>"
            ]
          },
          "metadata": {},
          "execution_count": 44
        }
      ],
      "source": [
        "tf.tensordot(a,b, axes=1)"
      ]
    },
    {
      "cell_type": "code",
      "execution_count": null,
      "metadata": {
        "id": "3D9vGLF92yhN"
      },
      "outputs": [],
      "source": [
        "m = tf.tensordot(a,b, axes=0)"
      ]
    },
    {
      "cell_type": "code",
      "execution_count": null,
      "metadata": {
        "colab": {
          "base_uri": "https://localhost:8080/"
        },
        "id": "Ka6jEo_Y25xy",
        "outputId": "8e9184b1-e6bf-4324-92af-32e4621cfd8f"
      },
      "outputs": [
        {
          "output_type": "execute_result",
          "data": {
            "text/plain": [
              "<tf.Tensor: shape=(), dtype=int32, numpy=324>"
            ]
          },
          "metadata": {},
          "execution_count": 46
        }
      ],
      "source": [
        "tf.reduce_sum(m)"
      ]
    },
    {
      "cell_type": "code",
      "execution_count": null,
      "metadata": {
        "colab": {
          "base_uri": "https://localhost:8080/"
        },
        "id": "KDOKykBS3Tnb",
        "outputId": "c723a536-f2a8-4eaa-8cd2-8d6dab5e7cca"
      },
      "outputs": [
        {
          "output_type": "execute_result",
          "data": {
            "text/plain": [
              "<tf.Tensor: shape=(), dtype=int32, numpy=20>"
            ]
          },
          "metadata": {},
          "execution_count": 47
        }
      ],
      "source": [
        "tf.reduce_mean(m)"
      ]
    },
    {
      "cell_type": "code",
      "execution_count": null,
      "metadata": {
        "colab": {
          "base_uri": "https://localhost:8080/"
        },
        "id": "tTcmsSIy3Zb_",
        "outputId": "33399e4a-21b7-4a0b-88a6-3aa55dd01aa4"
      },
      "outputs": [
        {
          "output_type": "execute_result",
          "data": {
            "text/plain": [
              "<tf.Tensor: shape=(), dtype=int32, numpy=63>"
            ]
          },
          "metadata": {},
          "execution_count": 48
        }
      ],
      "source": [
        "tf.reduce_max(m)"
      ]
    },
    {
      "cell_type": "code",
      "execution_count": null,
      "metadata": {
        "colab": {
          "base_uri": "https://localhost:8080/"
        },
        "id": "cxq9mZ0R3bi3",
        "outputId": "042e09b1-e7e1-4f63-90f7-23e7150bdc13"
      },
      "outputs": [
        {
          "output_type": "execute_result",
          "data": {
            "text/plain": [
              "<tf.Tensor: shape=(), dtype=int32, numpy=1>"
            ]
          },
          "metadata": {},
          "execution_count": 49
        }
      ],
      "source": [
        "tf.reduce_min(m)"
      ]
    },
    {
      "cell_type": "markdown",
      "metadata": {
        "id": "z8yIj98W323H"
      },
      "source": [
        "# **GradientType**"
      ]
    },
    {
      "cell_type": "code",
      "execution_count": null,
      "metadata": {
        "colab": {
          "base_uri": "https://localhost:8080/"
        },
        "id": "naJQwKSX36BJ",
        "outputId": "dd0dba9e-f20f-49d3-8014-ba1589a95380"
      },
      "outputs": [
        {
          "output_type": "execute_result",
          "data": {
            "text/plain": [
              "<tf.Tensor: shape=(), dtype=float32, numpy=4.0>"
            ]
          },
          "metadata": {},
          "execution_count": 50
        }
      ],
      "source": [
        "x = tf.Variable(2.0)\n",
        "\n",
        "with tf.GradientTape() as tape:\n",
        "  y = x**2\n",
        "\n",
        "df = tape.gradient(y, x)\n",
        "\n",
        "df"
      ]
    },
    {
      "cell_type": "code",
      "execution_count": null,
      "metadata": {
        "colab": {
          "base_uri": "https://localhost:8080/"
        },
        "id": "viHUEAaR5Q3e",
        "outputId": "8244689d-69fb-46d1-f095-42c36ea2cb31"
      },
      "outputs": [
        {
          "output_type": "stream",
          "name": "stdout",
          "text": [
            "tf.Tensor(8.0, shape=(), dtype=float32)\n",
            "None\n"
          ]
        }
      ],
      "source": [
        "a = tf.Variable(0, dtype=tf.float32)\n",
        "b = tf.Variable(4, dtype=tf.float32)\n",
        "\n",
        "with tf.GradientTape(watch_accessed_variables=False) as tape:\n",
        "  tape.watch(a)\n",
        "  f = (a + b) ** 2 + 2 * b\n",
        "\n",
        "df = tape.gradient(f, [a,b])\n",
        "\n",
        "del tape\n",
        "\n",
        "print(df[0], df[1], sep=\"\\n\")"
      ]
    },
    {
      "cell_type": "markdown",
      "metadata": {
        "id": "mJ69eKE1-sgF"
      },
      "source": [
        "# **Optimization**"
      ]
    },
    {
      "cell_type": "code",
      "execution_count": null,
      "metadata": {
        "colab": {
          "base_uri": "https://localhost:8080/"
        },
        "id": "8vyfZsOU7TXu",
        "outputId": "45638b3e-a873-4c10-e6c1-b71155a22de4"
      },
      "outputs": [
        {
          "output_type": "display_data",
          "data": {
            "text/plain": [
              "<Figure size 432x288 with 1 Axes>"
            ],
            "image/png": "[encoded data removed]"
          },
          "metadata": {
            "needs_background": "light"
          }
        }
      ],
      "source": [
        "TOTAL_POINTS = 1000\n",
        "\n",
        "x = tf.random.uniform(shape=[TOTAL_POINTS], minval=0, maxval=10)\n",
        "noise = tf.random.normal(shape=[TOTAL_POINTS], stddev=0.2)\n",
        "\n",
        "k_true = 0.7\n",
        "b_true = 2.0\n",
        "\n",
        "y = x * k_true + b_true + noise\n",
        "\n",
        "plt.scatter(x, y, s=2)\n",
        "plt.show()"
      ]
    },
    {
      "cell_type": "code",
      "execution_count": null,
      "metadata": {
        "id": "jLfugBbLC-oI"
      },
      "outputs": [],
      "source": [
        "k = tf.Variable(0.0)\n",
        "b = tf.Variable(0.0)"
      ]
    },
    {
      "cell_type": "code",
      "execution_count": null,
      "metadata": {
        "id": "XIr7E-WJDkQx"
      },
      "outputs": [],
      "source": [
        "EPOCHS = 500\n",
        "learning_rate = 0.02"
      ]
    },
    {
      "cell_type": "code",
      "execution_count": null,
      "metadata": {
        "id": "PrIDSoneDpMf"
      },
      "outputs": [],
      "source": [
        "for _ in range(EPOCHS):\n",
        "    with tf.GradientTape() as tape:\n",
        "      f = k * x + b\n",
        "      loss = tf.reduce_mean(tf.square(y - f))\n",
        "    dk, db = tape.gradient(loss, [k, b])\n",
        "    k.assign_sub(learning_rate * dk)\n",
        "    b.assign_sub(learning_rate * db)"
      ]
    },
    {
      "cell_type": "code",
      "execution_count": null,
      "metadata": {
        "colab": {
          "base_uri": "https://localhost:8080/"
        },
        "id": "-jKbR_t4EmeU",
        "outputId": "8aab044e-7351-4c7a-de30-07b58c4498e5"
      },
      "outputs": [
        {
          "output_type": "stream",
          "name": "stdout",
          "text": [
            "<tf.Variable 'Variable:0' shape=() dtype=float32, numpy=0.6996164>\n",
            "<tf.Variable 'Variable:0' shape=() dtype=float32, numpy=2.0012188>\n"
          ]
        }
      ],
      "source": [
        "print(k, b, sep=\"\\n\")"
      ]
    },
    {
      "cell_type": "code",
      "execution_count": null,
      "metadata": {
        "colab": {
          "base_uri": "https://localhost:8080/"
        },
        "id": "bCMtG8QMErWn",
        "outputId": "46efa356-3841-4d4a-bd3e-f6d6140a12d1"
      },
      "outputs": [
        {
          "output_type": "display_data",
          "data": {
            "text/plain": [
              "<Figure size 432x288 with 1 Axes>"
            ],
            "image/png": "[encoded data removed]"
          },
          "metadata": {
            "needs_background": "light"
          }
        }
      ],
      "source": [
        "y_pr = k * x + b\n",
        "\n",
        "plt.scatter(x, y, s=2)\n",
        "plt.scatter(x, y_pr, c='r', s=2)\n",
        "plt.show()"
      ]
    },
    {
      "cell_type": "markdown",
      "metadata": {
        "id": "vNAZo4sVTEjG"
      },
      "source": [
        "# **differential equations / Math**"
      ]
    },
    {
      "cell_type": "code",
      "execution_count": null,
      "metadata": {
        "colab": {
          "base_uri": "https://localhost:8080/"
        },
        "id": "UWoBOJ9lTPc9",
        "outputId": "d935f232-aeec-4f92-f57b-d4fdd37d2fe3"
      },
      "outputs": [
        {
          "output_type": "execute_result",
          "data": {
            "text/plain": [
              "<tf.Tensor: shape=(), dtype=float32, numpy=-68.0>"
            ]
          },
          "metadata": {},
          "execution_count": 58
        }
      ],
      "source": [
        "x = tf.Variable(-34.0)\n",
        "\n",
        "with tf.GradientTape() as tape:\n",
        "  y = x ** 2\n",
        "\n",
        "result = tape.gradient(y, x)\n",
        "result"
      ]
    },
    {
      "cell_type": "markdown",
      "metadata": {
        "id": "_L7_2acTS67q"
      },
      "source": [
        "# **AI-NN**"
      ]
    },
    {
      "cell_type": "markdown",
      "metadata": {
        "id": "MnB0dK4UMw_L"
      },
      "source": [
        "# **Simple classification**"
      ]
    },
    {
      "cell_type": "markdown",
      "metadata": {
        "id": "TtADVeCTsk5K"
      },
      "source": [
        "**MNIST-Fashion**"
      ]
    },
    {
      "cell_type": "code",
      "execution_count": null,
      "metadata": {
        "id": "dYnB8RzcMwbh"
      },
      "outputs": [],
      "source": [
        "from tensorflow.keras.datasets import fashion_mnist\n",
        "from tensorflow.keras.datasets import mnist\n",
        "from tensorflow.keras.utils import to_categorical"
      ]
    },
    {
      "cell_type": "code",
      "execution_count": null,
      "metadata": {
        "id": "DOGcLnJXNOxm",
        "colab": {
          "base_uri": "https://localhost:8080/"
        },
        "outputId": "4eff5421-bbd1-4fe0-cd68-79cfa31a5e47"
      },
      "outputs": [
        {
          "output_type": "stream",
          "name": "stdout",
          "text": [
            "Downloading data from https://storage.googleapis.com/tensorflow/tf-keras-datasets/train-labels-idx1-ubyte.gz\n",
            "32768/29515 [=================================] - 0s 0us/step\n",
            "40960/29515 [=========================================] - 0s 0us/step\n",
            "Downloading data from https://storage.googleapis.com/tensorflow/tf-keras-datasets/train-images-idx3-ubyte.gz\n",
            "26427392/26421880 [==============================] - 0s 0us/step\n",
            "26435584/26421880 [==============================] - 0s 0us/step\n",
            "Downloading data from https://storage.googleapis.com/tensorflow/tf-keras-datasets/t10k-labels-idx1-ubyte.gz\n",
            "16384/5148 [===============================================================================================] - 0s 0us/step\n",
            "Downloading data from https://storage.googleapis.com/tensorflow/tf-keras-datasets/t10k-images-idx3-ubyte.gz\n",
            "4423680/4422102 [==============================] - 0s 0us/step\n",
            "4431872/4422102 [==============================] - 0s 0us/step\n"
          ]
        }
      ],
      "source": [
        "(train_images, train_labels), (test_images, test_labels) = fashion_mnist.load_data()"
      ]
    },
    {
      "cell_type": "code",
      "execution_count": null,
      "metadata": {
        "id": "pXpgDw_jOJu4"
      },
      "outputs": [],
      "source": [
        "class_names = ['T-shirt/top', 'Trouser', 'Pullover', 'Dress', 'Coat',\n",
        "               'Sandal', 'Shirt', 'Sneaker', 'Bag', 'Ankle boot']"
      ]
    },
    {
      "cell_type": "code",
      "execution_count": null,
      "metadata": {
        "colab": {
          "base_uri": "https://localhost:8080/"
        },
        "id": "UHB5o8S6Ns0q",
        "outputId": "5f05230b-fa48-4ab7-a7c7-2ee0682341fc"
      },
      "outputs": [
        {
          "output_type": "display_data",
          "data": {
            "text/plain": [
              "<Figure size 432x288 with 2 Axes>"
            ],
            "image/png": "[encoded data removed]"
          },
          "metadata": {
            "needs_background": "light"
          }
        }
      ],
      "source": [
        "plt.figure()\n",
        "plt.imshow(train_images[3])\n",
        "plt.colorbar()\n",
        "plt.grid(False)\n",
        "plt.show()"
      ]
    },
    {
      "cell_type": "code",
      "execution_count": null,
      "metadata": {
        "id": "zq_wEOSsN4Z9"
      },
      "outputs": [],
      "source": [
        "train_images = train_images / 255.0\n",
        "test_images = test_images / 255.0"
      ]
    },
    {
      "cell_type": "code",
      "execution_count": null,
      "metadata": {
        "id": "6cHHYU3mOvGa"
      },
      "outputs": [],
      "source": [
        "model = tf.keras.Sequential([\n",
        "        tf.keras.layers.Flatten(input_shape=(28,28,1)),\n",
        "        tf.keras.layers.Dense(128, activation=\"relu\"),\n",
        "        tf.keras.layers.Dense(10)\n",
        "])"
      ]
    },
    {
      "cell_type": "code",
      "execution_count": null,
      "metadata": {
        "id": "NNHOgeFXPswh"
      },
      "outputs": [],
      "source": [
        "model.compile(optimizer=tf.optimizers.Adam(learning_rate=0.01),\n",
        "              loss=tf.keras.losses.SparseCategoricalCrossentropy(from_logits=True),\n",
        "              metrics=['accuracy'])"
      ]
    },
    {
      "cell_type": "code",
      "execution_count": null,
      "metadata": {
        "colab": {
          "base_uri": "https://localhost:8080/"
        },
        "id": "F5X2p8zjP2DV",
        "outputId": "f5aafc3c-3262-4b6a-ba6c-d9716b41ff9d"
      },
      "outputs": [
        {
          "output_type": "stream",
          "name": "stdout",
          "text": [
            "Epoch 1/5\n",
            "1500/1500 [==============================] - 9s 5ms/step - loss: 0.5345 - accuracy: 0.8095 - val_loss: 0.5305 - val_accuracy: 0.8050\n",
            "Epoch 2/5\n",
            "1500/1500 [==============================] - 8s 5ms/step - loss: 0.4405 - accuracy: 0.8405 - val_loss: 0.4639 - val_accuracy: 0.8334\n",
            "Epoch 3/5\n",
            "1500/1500 [==============================] - 7s 5ms/step - loss: 0.4188 - accuracy: 0.8495 - val_loss: 0.4619 - val_accuracy: 0.8393\n",
            "Epoch 4/5\n",
            "1500/1500 [==============================] - 7s 4ms/step - loss: 0.4012 - accuracy: 0.8569 - val_loss: 0.4544 - val_accuracy: 0.8372\n",
            "Epoch 5/5\n",
            "1500/1500 [==============================] - 8s 5ms/step - loss: 0.3939 - accuracy: 0.8591 - val_loss: 0.4187 - val_accuracy: 0.8526\n"
          ]
        },
        {
          "output_type": "execute_result",
          "data": {
            "text/plain": [
              "<keras.callbacks.History at 0x7f664bd34f10>"
            ]
          },
          "metadata": {},
          "execution_count": 66
        }
      ],
      "source": [
        "model.fit(train_images, train_labels, batch_size=32, epochs=5, validation_split=0.2)"
      ]
    },
    {
      "cell_type": "code",
      "execution_count": null,
      "metadata": {
        "id": "9G11428TP_k3"
      },
      "outputs": [],
      "source": [
        "probability_model = tf.keras.Sequential([model, tf.keras.layers.Softmax()])"
      ]
    },
    {
      "cell_type": "code",
      "execution_count": null,
      "metadata": {
        "id": "A3nD0igUQoJf"
      },
      "outputs": [],
      "source": [
        "predictions = probability_model.predict(test_images)"
      ]
    },
    {
      "cell_type": "code",
      "execution_count": null,
      "metadata": {
        "colab": {
          "base_uri": "https://localhost:8080/"
        },
        "id": "DudkdNVNQ1MA",
        "outputId": "b171e3ca-a5b8-41bf-eab0-66b007f16cb7"
      },
      "outputs": [
        {
          "output_type": "execute_result",
          "data": {
            "text/plain": [
              "array([1.7729970e-05, 2.8096983e-06, 1.4610864e-20, 3.1179070e-10,\n",
              "       8.4600499e-15, 6.2958603e-03, 3.6312836e-13, 4.6701830e-02,\n",
              "       2.9279460e-07, 9.4698149e-01], dtype=float32)"
            ]
          },
          "metadata": {},
          "execution_count": 69
        }
      ],
      "source": [
        "predictions[0]"
      ]
    },
    {
      "cell_type": "code",
      "execution_count": null,
      "metadata": {
        "id": "nvL65nM0RLM1"
      },
      "outputs": [],
      "source": [
        "def plot_image(i, predictions_array, true_label, img):\n",
        "  true_label, img = true_label[i], img[i]\n",
        "  plt.grid(False)\n",
        "  plt.xticks([])\n",
        "  plt.yticks([])\n",
        "\n",
        "  plt.imshow(img, cmap=plt.cm.binary)\n",
        "\n",
        "  predicted_label = np.argmax(predictions_array)\n",
        "  if predicted_label == true_label:\n",
        "    color = 'blue'\n",
        "  else:\n",
        "    color = 'red'\n",
        "\n",
        "  plt.xlabel(\"{} {:2.0f}% ({})\".format(class_names[predicted_label],\n",
        "                                100*np.max(predictions_array),\n",
        "                                class_names[true_label]),\n",
        "                                color=color)\n",
        "\n",
        "def plot_value_array(i, predictions_array, true_label):\n",
        "  true_label = true_label[i]\n",
        "  plt.grid(False)\n",
        "  plt.xticks(range(10))\n",
        "  plt.yticks([])\n",
        "  thisplot = plt.bar(range(10), predictions_array, color=\"#777777\")\n",
        "  plt.ylim([0, 1])\n",
        "  predicted_label = np.argmax(predictions_array)\n",
        "\n",
        "  thisplot[predicted_label].set_color('red')\n",
        "  thisplot[true_label].set_color('blue')"
      ]
    },
    {
      "cell_type": "code",
      "execution_count": null,
      "metadata": {
        "colab": {
          "base_uri": "https://localhost:8080/"
        },
        "id": "YM4SUXPQRCpa",
        "outputId": "eb4bfd54-b106-487b-8d7f-16d90bcbd04a"
      },
      "outputs": [
        {
          "output_type": "display_data",
          "data": {
            "text/plain": [
              "<Figure size 864x720 with 30 Axes>"
            ],
            "image/png": "[encoded data removed]"
          },
          "metadata": {
            "needs_background": "light"
          }
        }
      ],
      "source": [
        "num_rows = 5\n",
        "num_cols = 3\n",
        "num_images = num_rows*num_cols\n",
        "plt.figure(figsize=(2*2*num_cols, 2*num_rows))\n",
        "for i in range(num_images):\n",
        "  plt.subplot(num_rows, 2*num_cols, 2*i+1)\n",
        "  plot_image(i, predictions[i], test_labels, test_images)\n",
        "  plt.subplot(num_rows, 2*num_cols, 2*i+2)\n",
        "  plot_value_array(i, predictions[i], test_labels)\n",
        "plt.tight_layout()\n",
        "plt.show()"
      ]
    },
    {
      "cell_type": "markdown",
      "metadata": {
        "id": "blxvDzgTrkv7"
      },
      "source": [
        "**MNIST**"
      ]
    },
    {
      "cell_type": "code",
      "execution_count": null,
      "metadata": {
        "id": "8pQxzBbW7zFq",
        "colab": {
          "base_uri": "https://localhost:8080/"
        },
        "outputId": "e33f9b00-eed7-4aa0-faca-736154a3dc44"
      },
      "outputs": [
        {
          "output_type": "stream",
          "name": "stdout",
          "text": [
            "Downloading data from https://storage.googleapis.com/tensorflow/tf-keras-datasets/mnist.npz\n",
            "11493376/11490434 [==============================] - 0s 0us/step\n",
            "11501568/11490434 [==============================] - 0s 0us/step\n"
          ]
        }
      ],
      "source": [
        "(train_images_num, train_labels_num), (test_images_num, test_labels_num) = mnist.load_data()"
      ]
    },
    {
      "cell_type": "code",
      "execution_count": null,
      "metadata": {
        "id": "1xYFZ3JmJbeH"
      },
      "outputs": [],
      "source": [
        "model_num = tf.keras.Sequential([\n",
        "        tf.keras.layers.Flatten(input_shape=(28,28,1)),\n",
        "        tf.keras.layers.Dense(128, activation=\"relu\"),\n",
        "        tf.keras.layers.Dense(10)\n",
        "])"
      ]
    },
    {
      "cell_type": "code",
      "execution_count": null,
      "metadata": {
        "colab": {
          "base_uri": "https://localhost:8080/"
        },
        "id": "MI8bJNjQ8BuZ",
        "outputId": "189f5832-cf94-4107-cdc0-733f98845233"
      },
      "outputs": [
        {
          "output_type": "display_data",
          "data": {
            "text/plain": [
              "<Figure size 432x288 with 2 Axes>"
            ],
            "image/png": "[encoded data removed]"
          },
          "metadata": {
            "needs_background": "light"
          }
        }
      ],
      "source": [
        "plt.figure()\n",
        "plt.imshow(train_images_num[3])\n",
        "plt.colorbar()\n",
        "plt.grid(False)\n",
        "plt.show()"
      ]
    },
    {
      "cell_type": "code",
      "execution_count": null,
      "metadata": {
        "id": "btJQ32SW728z"
      },
      "outputs": [],
      "source": [
        "train_images_num = train_images_num / 255\n",
        "test_images_num = test_images_num / 255"
      ]
    },
    {
      "cell_type": "code",
      "execution_count": null,
      "metadata": {
        "id": "4h9Lp3G48IK5"
      },
      "outputs": [],
      "source": [
        "# train_images = tf.reshape(tf.cast(train_images, tf.float32), [-1, 28*28])\n",
        "# test_images = tf.reshape(tf.cast(test_images, tf.float32), [-1, 28*28])"
      ]
    },
    {
      "cell_type": "code",
      "execution_count": null,
      "metadata": {
        "id": "gKHaPkoJoVhE"
      },
      "outputs": [],
      "source": [
        "train_labels_num = to_categorical(train_labels_num, 10)\n",
        "test_labels_num = to_categorical(test_labels_num, 10)"
      ]
    },
    {
      "cell_type": "code",
      "execution_count": null,
      "metadata": {
        "id": "1DVLcdGB8-WR"
      },
      "outputs": [],
      "source": [
        "model_num.compile(optimizer=\"adam\", loss=\"categorical_crossentropy\", metrics=[\"accuracy\"])"
      ]
    },
    {
      "cell_type": "code",
      "execution_count": null,
      "metadata": {
        "colab": {
          "base_uri": "https://localhost:8080/"
        },
        "id": "rSKBiWmx9nAA",
        "outputId": "ecf9dbe9-0431-4df4-e572-11b393d7d7aa"
      },
      "outputs": [
        {
          "output_type": "stream",
          "name": "stdout",
          "text": [
            "Epoch 1/5\n",
            "1500/1500 [==============================] - 5s 3ms/step - loss: 8.8493 - accuracy: 0.2573 - val_loss: 9.0181 - val_accuracy: 0.2586\n",
            "Epoch 2/5\n",
            "1500/1500 [==============================] - 4s 3ms/step - loss: 8.7478 - accuracy: 0.2623 - val_loss: 8.4284 - val_accuracy: 0.2719\n",
            "Epoch 3/5\n",
            "1500/1500 [==============================] - 4s 3ms/step - loss: 8.7998 - accuracy: 0.2717 - val_loss: 8.4378 - val_accuracy: 0.2977\n",
            "Epoch 4/5\n",
            "1500/1500 [==============================] - 4s 3ms/step - loss: 8.5785 - accuracy: 0.2800 - val_loss: 8.8435 - val_accuracy: 0.2421\n",
            "Epoch 5/5\n",
            "1500/1500 [==============================] - 4s 3ms/step - loss: 8.7555 - accuracy: 0.2401 - val_loss: 8.8179 - val_accuracy: 0.2422\n"
          ]
        },
        {
          "output_type": "execute_result",
          "data": {
            "text/plain": [
              "<keras.callbacks.History at 0x7f66491b0850>"
            ]
          },
          "metadata": {},
          "execution_count": 79
        }
      ],
      "source": [
        "model_num.fit(train_images_num, train_labels_num, batch_size=32, epochs=5, validation_split=0.2)"
      ]
    },
    {
      "cell_type": "code",
      "execution_count": null,
      "metadata": {
        "id": "XlrnQiZE-5Yv"
      },
      "outputs": [],
      "source": [
        "probability_model_num = tf.keras.Sequential([model_num, tf.keras.layers.Softmax()])"
      ]
    },
    {
      "cell_type": "code",
      "execution_count": null,
      "metadata": {
        "id": "LUI2S31J_JdO"
      },
      "outputs": [],
      "source": [
        "predictions_num = probability_model_num.predict(test_images_num)"
      ]
    },
    {
      "cell_type": "code",
      "execution_count": null,
      "metadata": {
        "colab": {
          "base_uri": "https://localhost:8080/"
        },
        "id": "IgLeWVBmvxuj",
        "outputId": "aad664b0-52b7-4bd6-daad-890fdcb9d1e6"
      },
      "outputs": [
        {
          "output_type": "execute_result",
          "data": {
            "text/plain": [
              "array([0.12542693, 0.00682343, 0.00446564, 0.28652018, 0.00290356,\n",
              "       0.00226018, 0.18640508, 0.00144627, 0.1096241 , 0.27412468],\n",
              "      dtype=float32)"
            ]
          },
          "metadata": {},
          "execution_count": 82
        }
      ],
      "source": [
        "predictions_num[0]"
      ]
    },
    {
      "cell_type": "markdown",
      "metadata": {
        "id": "FO7P_T1yfH9P"
      },
      "source": [
        "# **CNN**\n"
      ]
    },
    {
      "cell_type": "code",
      "execution_count": null,
      "metadata": {
        "id": "Pfn2-EVB4ZDW"
      },
      "outputs": [],
      "source": [
        "import keras\n",
        "from keras.datasets import cifar10\n",
        "from keras.models import Sequential\n",
        "from keras import datasets, layers, models\n",
        "from keras.utils import np_utils\n",
        "from keras import regularizers\n",
        "from keras.layers import Dense, Dropout, BatchNormalization\n",
        "import matplotlib.pyplot as plt\n",
        "import numpy as np"
      ]
    },
    {
      "cell_type": "markdown",
      "metadata": {
        "id": "dz17QDKRM8BX"
      },
      "source": [
        "**cifar-10**"
      ]
    },
    {
      "cell_type": "code",
      "execution_count": null,
      "metadata": {
        "id": "g5l5omWfM_S2"
      },
      "outputs": [],
      "source": [
        "from tensorflow.keras.datasets import cifar10"
      ]
    },
    {
      "cell_type": "code",
      "execution_count": null,
      "metadata": {
        "id": "qd1OyCgjOR0N",
        "colab": {
          "base_uri": "https://localhost:8080/"
        },
        "outputId": "e4e9e27a-9c21-4ecf-9bd5-441572cd875c"
      },
      "outputs": [
        {
          "output_type": "stream",
          "name": "stdout",
          "text": [
            "Downloading data from https://www.cs.toronto.edu/~kriz/cifar-10-python.tar.gz\n",
            "170500096/170498071 [==============================] - 4s 0us/step\n",
            "170508288/170498071 [==============================] - 4s 0us/step\n"
          ]
        }
      ],
      "source": [
        "(x_train, y_train), (x_test, y_test) = cifar10.load_data()"
      ]
    },
    {
      "cell_type": "code",
      "execution_count": null,
      "metadata": {
        "colab": {
          "base_uri": "https://localhost:8080/"
        },
        "id": "-_XKug2I2kn9",
        "outputId": "cfd77455-1ad7-45fd-ec74-c479e9e5b3a1"
      },
      "outputs": [
        {
          "output_type": "execute_result",
          "data": {
            "text/plain": [
              "(50000, 32, 32, 3)"
            ]
          },
          "metadata": {},
          "execution_count": 86
        }
      ],
      "source": [
        "x_train.shape"
      ]
    },
    {
      "cell_type": "code",
      "execution_count": null,
      "metadata": {
        "colab": {
          "base_uri": "https://localhost:8080/",
          "height": 764
        },
        "id": "3vTYV1NxOiHN",
        "outputId": "8b14b8d0-8513-4f6a-bd90-fd3af1663342"
      },
      "outputs": [
        {
          "output_type": "display_data",
          "data": {
            "text/plain": [
              "<Figure size 432x288 with 2 Axes>"
            ],
            "image/png": "[encoded data removed]"
          },
          "metadata": {
            "needs_background": "light"
          }
        },
        {
          "output_type": "display_data",
          "data": {
            "text/plain": [
              "<Figure size 432x288 with 2 Axes>"
            ],
            "image/png": "[encoded data removed]"
          },
          "metadata": {
            "needs_background": "light"
          }
        },
        {
          "output_type": "display_data",
          "data": {
            "text/plain": [
              "<Figure size 432x288 with 2 Axes>"
            ],
            "image/png": "[encoded data removed]"
          },
          "metadata": {
            "needs_background": "light"
          }
        }
      ],
      "source": [
        "for i in range(3):\n",
        "  plt.figure()\n",
        "  plt.imshow(x_train[i])\n",
        "  plt.colorbar()\n",
        "  plt.grid(False)\n",
        "  plt.show()"
      ]
    },
    {
      "cell_type": "code",
      "execution_count": null,
      "metadata": {
        "id": "sBcS550J1mmz"
      },
      "outputs": [],
      "source": [
        "x_train = x_train / 255\n",
        "x_test = x_test / 255\n",
        "\n",
        "y_train_cat = tf.keras.utils.to_categorical(y_train, 10)\n",
        "y_test_cat = tf.keras.utils.to_categorical(y_test, 10)\n",
        "\n",
        "# x_train = np.expand_dims(x_train, axis=3)\n",
        "# x_test = np.expand_dims(x_test, axis=3)"
      ]
    },
    {
      "cell_type": "code",
      "execution_count": null,
      "metadata": {
        "id": "uuu0bkYivkkv"
      },
      "outputs": [],
      "source": [
        "model_cnn = tf.keras.Sequential([\n",
        "    tf.keras.layers.Conv2D(32, kernel_size=(3,3), padding=\"same\", activation=\"relu\", input_shape=(32,32,3)),\n",
        "    tf.keras.layers.MaxPooling2D(pool_size=(2,2)),\n",
        "    tf.keras.layers.Conv2D(64, kernel_size=(3,3), padding=\"same\", activation=\"relu\"),\n",
        "    tf.keras.layers.Dropout(0.25),\n",
        "    tf.keras.layers.MaxPooling2D(pool_size=(2,2)),\n",
        "    tf.keras.layers.Flatten(),\n",
        "    tf.keras.layers.Dropout(0.25),\n",
        "    tf.keras.layers.Dense(128, activation=\"relu\"),\n",
        "    tf.keras.layers.Dense(10, activation=\"softmax\")\n",
        "]) "
      ]
    },
    {
      "cell_type": "code",
      "execution_count": null,
      "metadata": {
        "id": "WzkFX2mU2Lbi"
      },
      "outputs": [],
      "source": [
        "model_cnn.compile(optimizer='adam', loss=keras.losses.categorical_crossentropy, metrics=['accuracy'])"
      ]
    },
    {
      "cell_type": "code",
      "execution_count": null,
      "metadata": {
        "colab": {
          "base_uri": "https://localhost:8080/"
        },
        "id": "4_A_O1zZ2ZmC",
        "outputId": "ec3c9cdf-95e8-4f67-ccad-dfcb5180be75"
      },
      "outputs": [
        {
          "output_type": "stream",
          "name": "stdout",
          "text": [
            "Epoch 1/5\n",
            "1250/1250 [==============================] - 91s 72ms/step - loss: 1.4266 - accuracy: 0.4864 - val_loss: 1.1660 - val_accuracy: 0.6136\n",
            "Epoch 2/5\n",
            "1250/1250 [==============================] - 86s 68ms/step - loss: 1.0721 - accuracy: 0.6219 - val_loss: 1.0287 - val_accuracy: 0.6395\n",
            "Epoch 3/5\n",
            "1250/1250 [==============================] - 88s 70ms/step - loss: 0.9415 - accuracy: 0.6681 - val_loss: 0.9435 - val_accuracy: 0.6734\n",
            "Epoch 4/5\n",
            "1250/1250 [==============================] - 87s 70ms/step - loss: 0.8575 - accuracy: 0.6983 - val_loss: 0.8797 - val_accuracy: 0.6984\n",
            "Epoch 5/5\n",
            "1250/1250 [==============================] - 87s 70ms/step - loss: 0.7795 - accuracy: 0.7254 - val_loss: 0.8614 - val_accuracy: 0.7062\n"
          ]
        }
      ],
      "source": [
        "history = model_cnn.fit(x_train, y_train_cat, batch_size=32, epochs=5, validation_split=0.2)"
      ]
    },
    {
      "cell_type": "code",
      "execution_count": null,
      "metadata": {
        "colab": {
          "base_uri": "https://localhost:8080/"
        },
        "id": "atWBmzfe-M0t",
        "outputId": "7ced1f49-7597-4c8d-a8aa-4b0f2ff07300"
      },
      "outputs": [
        {
          "output_type": "stream",
          "name": "stdout",
          "text": [
            "313/313 [==============================] - 6s 19ms/step - loss: 0.8595 - accuracy: 0.7069\n"
          ]
        },
        {
          "output_type": "execute_result",
          "data": {
            "text/plain": [
              "[0.8594693541526794, 0.7069000005722046]"
            ]
          },
          "metadata": {},
          "execution_count": 92
        }
      ],
      "source": [
        "model_cnn.evaluate(x_test, y_test_cat)"
      ]
    },
    {
      "cell_type": "code",
      "execution_count": null,
      "metadata": {
        "colab": {
          "base_uri": "https://localhost:8080/",
          "height": 313
        },
        "id": "PacjajuJ_PDs",
        "outputId": "4634418c-fdc6-4d84-b81e-ec36cc7554a9"
      },
      "outputs": [
        {
          "output_type": "execute_result",
          "data": {
            "text/plain": [
              "Text(0.5, 1.0, 'Loss Curves')"
            ]
          },
          "metadata": {},
          "execution_count": 93
        },
        {
          "output_type": "display_data",
          "data": {
            "text/plain": [
              "<Figure size 432x288 with 1 Axes>"
            ],
            "image/png": "[encoded data removed]"
          },
          "metadata": {
            "needs_background": "light"
          }
        }
      ],
      "source": [
        "plt.figure(figsize=[6,4])\n",
        "plt.plot(history.history['loss'], 'black', linewidth=2.0)\n",
        "plt.plot(history.history['val_loss'], 'green', linewidth=2.0)\n",
        "plt.legend(['Training Loss', 'Validation Loss'], fontsize=14)\n",
        "plt.xlabel('Epochs', fontsize=10)\n",
        "plt.ylabel('Loss', fontsize=10)\n",
        "plt.title('Loss Curves', fontsize=12)"
      ]
    },
    {
      "cell_type": "markdown",
      "metadata": {
        "id": "rEs5fE2XyHm0"
      },
      "source": [
        "**MNIST**"
      ]
    },
    {
      "cell_type": "code",
      "execution_count": null,
      "metadata": {
        "id": "guPCLGJgyJcB"
      },
      "outputs": [],
      "source": [
        "(x_train_mnist_cnn, y_train_cat_mnist_cnn), (x_test_mnist_cnn, y_test_cat_mnist_cnn) = mnist.load_data()"
      ]
    },
    {
      "cell_type": "code",
      "execution_count": null,
      "metadata": {
        "colab": {
          "base_uri": "https://localhost:8080/"
        },
        "id": "H1LOIo3QCfmR",
        "outputId": "fda01706-fd86-48de-982f-9305b8602404"
      },
      "outputs": [
        {
          "output_type": "execute_result",
          "data": {
            "text/plain": [
              "(60000, 28, 28)"
            ]
          },
          "metadata": {},
          "execution_count": 95
        }
      ],
      "source": [
        "x_train_mnist_cnn.shape"
      ]
    },
    {
      "cell_type": "code",
      "execution_count": null,
      "metadata": {
        "colab": {
          "base_uri": "https://localhost:8080/",
          "height": 265
        },
        "id": "78-EKyFK1Qma",
        "outputId": "92d3c052-5724-4f83-cd93-1d32a99259d2"
      },
      "outputs": [
        {
          "output_type": "display_data",
          "data": {
            "text/plain": [
              "<Figure size 432x288 with 2 Axes>"
            ],
            "image/png": "[encoded data removed]"
          },
          "metadata": {
            "needs_background": "light"
          }
        }
      ],
      "source": [
        "plt.figure()\n",
        "plt.imshow(x_train_mnist_cnn[0])\n",
        "plt.colorbar()\n",
        "plt.grid(False)\n",
        "plt.show()"
      ]
    },
    {
      "cell_type": "code",
      "execution_count": null,
      "metadata": {
        "id": "X6QR0FOk1VHJ"
      },
      "outputs": [],
      "source": [
        "# x_train = tf.cast(x_train, dtype=tf.float32) / 255.0\n",
        "# x_test = tf.cast(x_test, dtype=tf.float32) / 255.0\n",
        "\n",
        "x_train_mnist_cnn = x_train_mnist_cnn / 255.0\n",
        "x_test_mnist_cnn = x_test_mnist_cnn / 255.0\n",
        "\n",
        "y_train_cat_mnist_cnn = to_categorical(y_train_cat_mnist_cnn, 10)\n",
        "y_test_cat_mnist_cnn = to_categorical(y_test_cat_mnist_cnn, 10)"
      ]
    },
    {
      "cell_type": "code",
      "execution_count": null,
      "metadata": {
        "id": "83ralEGr2mdX"
      },
      "outputs": [],
      "source": [
        "model_mnist_cnn = tf.keras.Sequential([\n",
        "    tf.keras.layers.Conv2D(32, kernel_size=(3,3), padding=\"same\", activation=\"relu\", input_shape=(28,28,1)),\n",
        "    tf.keras.layers.BatchNormalization(),\n",
        "    tf.keras.layers.Conv2D(32, kernel_size=(3,3), padding=\"same\", activation=\"relu\"),\n",
        "    tf.keras.layers.BatchNormalization(),\n",
        "    tf.keras.layers.MaxPooling2D(pool_size=(2,2)),\n",
        "    tf.keras.layers.Dropout(0.4),\n",
        "\n",
        "    tf.keras.layers.Conv2D(64, kernel_size=(3,3), padding=\"same\", activation=\"relu\"),\n",
        "    tf.keras.layers.BatchNormalization(),\n",
        "    tf.keras.layers.Conv2D(64, kernel_size=(3,3), padding=\"same\", activation=\"relu\"),\n",
        "    tf.keras.layers.BatchNormalization(),\n",
        "    tf.keras.layers.MaxPooling2D(pool_size=(2,2)),\n",
        "    tf.keras.layers.Dropout(0.4),\n",
        "\n",
        "    tf.keras.layers.Flatten(),\n",
        "    tf.keras.layers.Dropout(0.4),\n",
        "    tf.keras.layers.Dense(128, activation=\"relu\"),\n",
        "    tf.keras.layers.Dense(10, activation=\"softmax\")\n",
        "])"
      ]
    },
    {
      "cell_type": "code",
      "execution_count": null,
      "metadata": {
        "colab": {
          "base_uri": "https://localhost:8080/"
        },
        "id": "UcgJ-FHLCNDf",
        "outputId": "bb4035e0-5db4-4615-d635-332c8c9eb605"
      },
      "outputs": [
        {
          "output_type": "stream",
          "name": "stdout",
          "text": [
            "Model: \"sequential_5\"\n",
            "_________________________________________________________________\n",
            " Layer (type)                Output Shape              Param #   \n",
            "=================================================================\n",
            " conv2d_2 (Conv2D)           (None, 28, 28, 32)        320       \n",
            "                                                                 \n",
            " batch_normalization (BatchN  (None, 28, 28, 32)       128       \n",
            " ormalization)                                                   \n",
            "                                                                 \n",
            " conv2d_3 (Conv2D)           (None, 28, 28, 32)        9248      \n",
            "                                                                 \n",
            " batch_normalization_1 (Batc  (None, 28, 28, 32)       128       \n",
            " hNormalization)                                                 \n",
            "                                                                 \n",
            " max_pooling2d_2 (MaxPooling  (None, 14, 14, 32)       0         \n",
            " 2D)                                                             \n",
            "                                                                 \n",
            " dropout_2 (Dropout)         (None, 14, 14, 32)        0         \n",
            "                                                                 \n",
            " conv2d_4 (Conv2D)           (None, 14, 14, 64)        18496     \n",
            "                                                                 \n",
            " batch_normalization_2 (Batc  (None, 14, 14, 64)       256       \n",
            " hNormalization)                                                 \n",
            "                                                                 \n",
            " conv2d_5 (Conv2D)           (None, 14, 14, 64)        36928     \n",
            "                                                                 \n",
            " batch_normalization_3 (Batc  (None, 14, 14, 64)       256       \n",
            " hNormalization)                                                 \n",
            "                                                                 \n",
            " max_pooling2d_3 (MaxPooling  (None, 7, 7, 64)         0         \n",
            " 2D)                                                             \n",
            "                                                                 \n",
            " dropout_3 (Dropout)         (None, 7, 7, 64)          0         \n",
            "                                                                 \n",
            " flatten_3 (Flatten)         (None, 3136)              0         \n",
            "                                                                 \n",
            " dropout_4 (Dropout)         (None, 3136)              0         \n",
            "                                                                 \n",
            " dense_6 (Dense)             (None, 128)               401536    \n",
            "                                                                 \n",
            " dense_7 (Dense)             (None, 10)                1290      \n",
            "                                                                 \n",
            "=================================================================\n",
            "Total params: 468,586\n",
            "Trainable params: 468,202\n",
            "Non-trainable params: 384\n",
            "_________________________________________________________________\n"
          ]
        }
      ],
      "source": [
        "model_mnist_cnn.summary()"
      ]
    },
    {
      "cell_type": "code",
      "execution_count": null,
      "metadata": {
        "id": "0Iq7_Ltq9NmP"
      },
      "outputs": [],
      "source": [
        "model_mnist_cnn.compile(optimizer=\"adam\", loss=keras.losses.categorical_crossentropy, metrics=['accuracy'])"
      ]
    },
    {
      "cell_type": "code",
      "execution_count": null,
      "metadata": {
        "colab": {
          "base_uri": "https://localhost:8080/"
        },
        "id": "OCV7yJG_9f0p",
        "outputId": "96201a86-5eb1-4a1b-d7d8-ab69d56deeeb"
      },
      "outputs": [
        {
          "output_type": "stream",
          "name": "stdout",
          "text": [
            "Epoch 1/5\n",
            "1500/1500 [==============================] - 269s 178ms/step - loss: 0.2465 - accuracy: 0.9270 - val_loss: 0.0565 - val_accuracy: 0.9834\n",
            "Epoch 2/5\n",
            "1500/1500 [==============================] - 256s 171ms/step - loss: 0.0876 - accuracy: 0.9730 - val_loss: 0.0450 - val_accuracy: 0.9862\n",
            "Epoch 3/5\n",
            "1500/1500 [==============================] - 255s 170ms/step - loss: 0.0720 - accuracy: 0.9786 - val_loss: 0.0507 - val_accuracy: 0.9857\n",
            "Epoch 4/5\n",
            "1500/1500 [==============================] - 255s 170ms/step - loss: 0.0627 - accuracy: 0.9809 - val_loss: 0.0777 - val_accuracy: 0.9780\n",
            "Epoch 5/5\n",
            "1500/1500 [==============================] - 256s 171ms/step - loss: 0.0522 - accuracy: 0.9846 - val_loss: 0.0360 - val_accuracy: 0.9893\n"
          ]
        }
      ],
      "source": [
        "history = model_mnist_cnn.fit(x_train_mnist_cnn, y_train_cat_mnist_cnn, batch_size=32, epochs=5, validation_split=0.2)"
      ]
    },
    {
      "cell_type": "code",
      "execution_count": null,
      "metadata": {
        "colab": {
          "base_uri": "https://localhost:8080/"
        },
        "id": "y1MBwJbR9wG_",
        "outputId": "63e224ee-01f7-4871-ccbd-560d10b388ba"
      },
      "outputs": [
        {
          "output_type": "stream",
          "name": "stdout",
          "text": [
            "313/313 [==============================] - 12s 38ms/step - loss: 0.0270 - accuracy: 0.9914\n"
          ]
        },
        {
          "output_type": "execute_result",
          "data": {
            "text/plain": [
              "[0.026978369802236557, 0.9914000034332275]"
            ]
          },
          "metadata": {},
          "execution_count": 102
        }
      ],
      "source": [
        "model_mnist_cnn.evaluate(x_test_mnist_cnn, y_test_cat_mnist_cnn)"
      ]
    },
    {
      "cell_type": "code",
      "execution_count": null,
      "metadata": {
        "colab": {
          "base_uri": "https://localhost:8080/",
          "height": 313
        },
        "id": "UDD0QPHP99x0",
        "outputId": "a6074c91-b910-4cfe-b5f5-cd06ad16a395"
      },
      "outputs": [
        {
          "output_type": "execute_result",
          "data": {
            "text/plain": [
              "Text(0.5, 1.0, 'Loss Curves')"
            ]
          },
          "metadata": {},
          "execution_count": 103
        },
        {
          "output_type": "display_data",
          "data": {
            "text/plain": [
              "<Figure size 432x288 with 1 Axes>"
            ],
            "image/png": "[encoded data removed]"
          },
          "metadata": {
            "needs_background": "light"
          }
        }
      ],
      "source": [
        "plt.figure(figsize=[6,4])\n",
        "plt.plot(history.history['loss'], 'black', linewidth=2.0)\n",
        "plt.plot(history.history['val_loss'], 'green', linewidth=2.0)\n",
        "plt.legend(['Training Loss', 'Validation Loss'], fontsize=14)\n",
        "plt.xlabel('Epochs', fontsize=10)\n",
        "plt.ylabel('Loss', fontsize=10)\n",
        "plt.title('Loss Curves', fontsize=12)"
      ]
    },
    {
      "cell_type": "markdown",
      "metadata": {
        "id": "AtNhjkMQTy3u"
      },
      "source": [
        "CNN Cifar10"
      ]
    },
    {
      "cell_type": "code",
      "execution_count": null,
      "metadata": {
        "id": "8BqjSidkQp9S"
      },
      "outputs": [],
      "source": [
        "(x_train_cnn_cifa10, y_train_cnn_cifa10), (x_test_cnn_cifa10, y_test_cnn_cifa10) = cifar10.load_data()"
      ]
    },
    {
      "cell_type": "code",
      "execution_count": null,
      "metadata": {
        "colab": {
          "base_uri": "https://localhost:8080/"
        },
        "id": "cOpQQ0EEQx2J",
        "outputId": "c05f8795-28f9-4e18-b939-13b5619a50ea"
      },
      "outputs": [
        {
          "output_type": "execute_result",
          "data": {
            "text/plain": [
              "(50000, 32, 32, 3)"
            ]
          },
          "metadata": {},
          "execution_count": 105
        }
      ],
      "source": [
        "x_train_cnn_cifa10.shape"
      ]
    },
    {
      "cell_type": "code",
      "execution_count": null,
      "metadata": {
        "colab": {
          "base_uri": "https://localhost:8080/"
        },
        "id": "dQO5frhXQ8Wc",
        "outputId": "da8d3a7e-bcc8-4c30-ca17-f384ea24c15f"
      },
      "outputs": [
        {
          "output_type": "execute_result",
          "data": {
            "text/plain": [
              "(50000, 1)"
            ]
          },
          "metadata": {},
          "execution_count": 106
        }
      ],
      "source": [
        "y_train_cnn_cifa10.shape"
      ]
    },
    {
      "cell_type": "code",
      "execution_count": null,
      "metadata": {
        "colab": {
          "base_uri": "https://localhost:8080/"
        },
        "id": "5h-WzyyIRBRh",
        "outputId": "ed9f5c8f-a7dd-475b-a37f-3e688e8fee45"
      },
      "outputs": [
        {
          "output_type": "execute_result",
          "data": {
            "text/plain": [
              "(10000, 32, 32, 3)"
            ]
          },
          "metadata": {},
          "execution_count": 107
        }
      ],
      "source": [
        "x_test_cnn_cifa10.shape"
      ]
    },
    {
      "cell_type": "code",
      "execution_count": null,
      "metadata": {
        "colab": {
          "base_uri": "https://localhost:8080/"
        },
        "id": "7WLdGniTRDjP",
        "outputId": "e4ad5193-6b6b-41a5-c0c8-a35b65407bfd"
      },
      "outputs": [
        {
          "output_type": "execute_result",
          "data": {
            "text/plain": [
              "(10000, 1)"
            ]
          },
          "metadata": {},
          "execution_count": 108
        }
      ],
      "source": [
        "y_test_cnn_cifa10.shape"
      ]
    },
    {
      "cell_type": "code",
      "execution_count": null,
      "metadata": {
        "colab": {
          "base_uri": "https://localhost:8080/",
          "height": 266
        },
        "id": "kSTf_qf1RFcZ",
        "outputId": "b04ad6e8-34ec-4fd0-e0f4-a2c9258ff160"
      },
      "outputs": [
        {
          "output_type": "display_data",
          "data": {
            "text/plain": [
              "<Figure size 432x288 with 2 Axes>"
            ],
            "image/png": "[encoded data removed]"
          },
          "metadata": {
            "needs_background": "light"
          }
        }
      ],
      "source": [
        "plt.figure()\n",
        "plt.imshow(x_train_cnn_cifa10[0])\n",
        "plt.colorbar()\n",
        "plt.grid(False)\n",
        "plt.show()"
      ]
    },
    {
      "cell_type": "code",
      "execution_count": null,
      "metadata": {
        "id": "4nw4DOICRRUz"
      },
      "outputs": [],
      "source": [
        "x_train_cnn_cifa10 = x_train_cnn_cifa10 / 255.0\n",
        "x_test_cnn_cifa10 = x_test_cnn_cifa10 / 255.0"
      ]
    },
    {
      "cell_type": "code",
      "execution_count": null,
      "metadata": {
        "id": "NyHzghtxRmBn"
      },
      "outputs": [],
      "source": [
        "y_train_cnn_cifa10 = to_categorical(y_train_cnn_cifa10, 10)\n",
        "y_test_cnn_cifa10 = to_categorical(y_test_cnn_cifa10, 10)"
      ]
    },
    {
      "cell_type": "code",
      "execution_count": null,
      "metadata": {
        "id": "Nv1kqD9aRrTN"
      },
      "outputs": [],
      "source": [
        "model_cnn_cifar10 = tf.keras.Sequential([\n",
        "    tf.keras.layers.Conv2D(32, kernel_size=(3,3), padding=\"same\", activation=\"relu\", input_shape=(32,32,3)),\n",
        "    tf.keras.layers.BatchNormalization(),\n",
        "    tf.keras.layers.Conv2D(32, kernel_size=(3,3), padding=\"same\", activation=\"relu\"),\n",
        "    tf.keras.layers.BatchNormalization(),\n",
        "    tf.keras.layers.MaxPooling2D(pool_size=(2,2)),\n",
        "    tf.keras.layers.Dropout(0.4),\n",
        "\n",
        "    tf.keras.layers.Conv2D(64, kernel_size=(3,3), padding=\"same\", activation=\"relu\"),\n",
        "    tf.keras.layers.BatchNormalization(),\n",
        "    tf.keras.layers.Conv2D(64, kernel_size=(3,3), padding=\"same\", activation=\"relu\"),\n",
        "    tf.keras.layers.BatchNormalization(),\n",
        "    tf.keras.layers.MaxPooling2D(pool_size=(2,2)),\n",
        "    tf.keras.layers.Dropout(0.4),\n",
        "\n",
        "    tf.keras.layers.Flatten(),\n",
        "    tf.keras.layers.Dropout(0.4),\n",
        "    tf.keras.layers.Dense(128, activation=\"relu\"),\n",
        "    tf.keras.layers.Dense(10, activation=\"softmax\")\n",
        "])"
      ]
    },
    {
      "cell_type": "code",
      "execution_count": null,
      "metadata": {
        "colab": {
          "base_uri": "https://localhost:8080/"
        },
        "id": "2p8ydFUKSoSR",
        "outputId": "def1fcdc-cfa4-4ffe-a048-74d202b7d0a7"
      },
      "outputs": [
        {
          "output_type": "stream",
          "name": "stdout",
          "text": [
            "Model: \"sequential_6\"\n",
            "_________________________________________________________________\n",
            " Layer (type)                Output Shape              Param #   \n",
            "=================================================================\n",
            " conv2d_6 (Conv2D)           (None, 32, 32, 32)        896       \n",
            "                                                                 \n",
            " batch_normalization_4 (Batc  (None, 32, 32, 32)       128       \n",
            " hNormalization)                                                 \n",
            "                                                                 \n",
            " conv2d_7 (Conv2D)           (None, 32, 32, 32)        9248      \n",
            "                                                                 \n",
            " batch_normalization_5 (Batc  (None, 32, 32, 32)       128       \n",
            " hNormalization)                                                 \n",
            "                                                                 \n",
            " max_pooling2d_4 (MaxPooling  (None, 16, 16, 32)       0         \n",
            " 2D)                                                             \n",
            "                                                                 \n",
            " dropout_5 (Dropout)         (None, 16, 16, 32)        0         \n",
            "                                                                 \n",
            " conv2d_8 (Conv2D)           (None, 16, 16, 64)        18496     \n",
            "                                                                 \n",
            " batch_normalization_6 (Batc  (None, 16, 16, 64)       256       \n",
            " hNormalization)                                                 \n",
            "                                                                 \n",
            " conv2d_9 (Conv2D)           (None, 16, 16, 64)        36928     \n",
            "                                                                 \n",
            " batch_normalization_7 (Batc  (None, 16, 16, 64)       256       \n",
            " hNormalization)                                                 \n",
            "                                                                 \n",
            " max_pooling2d_5 (MaxPooling  (None, 8, 8, 64)         0         \n",
            " 2D)                                                             \n",
            "                                                                 \n",
            " dropout_6 (Dropout)         (None, 8, 8, 64)          0         \n",
            "                                                                 \n",
            " flatten_4 (Flatten)         (None, 4096)              0         \n",
            "                                                                 \n",
            " dropout_7 (Dropout)         (None, 4096)              0         \n",
            "                                                                 \n",
            " dense_8 (Dense)             (None, 128)               524416    \n",
            "                                                                 \n",
            " dense_9 (Dense)             (None, 10)                1290      \n",
            "                                                                 \n",
            "=================================================================\n",
            "Total params: 592,042\n",
            "Trainable params: 591,658\n",
            "Non-trainable params: 384\n",
            "_________________________________________________________________\n"
          ]
        }
      ],
      "source": [
        "model_cnn_cifar10.summary()"
      ]
    },
    {
      "cell_type": "code",
      "execution_count": null,
      "metadata": {
        "id": "Ruo9hxcMSZTk"
      },
      "outputs": [],
      "source": [
        "model_cnn_cifar10.compile(optimizer=\"adam\", loss=keras.losses.categorical_crossentropy, metrics=['accuracy'])"
      ]
    },
    {
      "cell_type": "code",
      "execution_count": null,
      "metadata": {
        "colab": {
          "base_uri": "https://localhost:8080/"
        },
        "id": "_e6rJeCRS29P",
        "outputId": "26495826-0f8c-49d2-9b21-3e9a2e14165b"
      },
      "outputs": [
        {
          "output_type": "stream",
          "name": "stdout",
          "text": [
            "Epoch 1/5\n",
            "1250/1250 [==============================] - 273s 217ms/step - loss: 1.5952 - accuracy: 0.4268 - val_loss: 1.9565 - val_accuracy: 0.4277\n",
            "Epoch 2/5\n",
            "1250/1250 [==============================] - 267s 213ms/step - loss: 1.1798 - accuracy: 0.5777 - val_loss: 1.1500 - val_accuracy: 0.5845\n",
            "Epoch 3/5\n",
            "1250/1250 [==============================] - 267s 213ms/step - loss: 1.0134 - accuracy: 0.6405 - val_loss: 0.9843 - val_accuracy: 0.6535\n",
            "Epoch 4/5\n",
            "1250/1250 [==============================] - 271s 217ms/step - loss: 0.9148 - accuracy: 0.6752 - val_loss: 1.0942 - val_accuracy: 0.6264\n",
            "Epoch 5/5\n",
            "1250/1250 [==============================] - 269s 215ms/step - loss: 0.8527 - accuracy: 0.7005 - val_loss: 0.9206 - val_accuracy: 0.6751\n"
          ]
        }
      ],
      "source": [
        "history = model_cnn_cifar10.fit(x_train_cnn_cifa10, y_train_cnn_cifa10, batch_size=32, epochs=5, validation_split=0.2)"
      ]
    },
    {
      "cell_type": "code",
      "execution_count": null,
      "metadata": {
        "id": "fFOC1izJT3sl",
        "colab": {
          "base_uri": "https://localhost:8080/"
        },
        "outputId": "d5124944-6e0f-43c7-9c77-5798ae680616"
      },
      "outputs": [
        {
          "output_type": "stream",
          "name": "stdout",
          "text": [
            "313/313 [==============================] - 15s 47ms/step - loss: 0.9525 - accuracy: 0.6632\n"
          ]
        },
        {
          "output_type": "execute_result",
          "data": {
            "text/plain": [
              "[0.9524653553962708, 0.6632000207901001]"
            ]
          },
          "metadata": {},
          "execution_count": 116
        }
      ],
      "source": [
        "model_cnn_cifar10.evaluate(x_test_cnn_cifa10, y_test_cnn_cifa10)"
      ]
    },
    {
      "cell_type": "code",
      "source": [
        "plt.figure(figsize=[6,4])\n",
        "plt.plot(history.history['loss'], 'black', linewidth=2.0)\n",
        "plt.plot(history.history['val_loss'], 'green', linewidth=2.0)\n",
        "plt.legend(['Training Loss', 'Validation Loss'], fontsize=14)\n",
        "plt.xlabel('Epochs', fontsize=10)\n",
        "plt.ylabel('Loss', fontsize=10)\n",
        "plt.title('Loss Curves', fontsize=12)"
      ],
      "metadata": {
        "colab": {
          "base_uri": "https://localhost:8080/",
          "height": 313
        },
        "id": "eknnEjr9G2y3",
        "outputId": "9806bb6b-ac18-4ee1-d351-d6104aad8375"
      },
      "execution_count": null,
      "outputs": [
        {
          "output_type": "execute_result",
          "data": {
            "text/plain": [
              "Text(0.5, 1.0, 'Loss Curves')"
            ]
          },
          "metadata": {},
          "execution_count": 117
        },
        {
          "output_type": "display_data",
          "data": {
            "text/plain": [
              "<Figure size 432x288 with 1 Axes>"
            ],
            "image/png": "[encoded data removed]"
          },
          "metadata": {
            "needs_background": "light"
          }
        }
      ]
    },
    {
      "cell_type": "markdown",
      "source": [
        "Neural Style Transfer"
      ],
      "metadata": {
        "id": "FuGkXMc1T1xb"
      }
    },
    {
      "cell_type": "code",
      "source": [
        "! curl https://raw.githubusercontent.com/selfedu-rus/neural-network/master/img.jpg --output img.jpg"
      ],
      "metadata": {
        "colab": {
          "base_uri": "https://localhost:8080/"
        },
        "id": "lQMTs-KCT08g",
        "outputId": "a76f35d2-49e1-4d99-ba66-9262b5bcfad9"
      },
      "execution_count": null,
      "outputs": [
        {
          "output_type": "stream",
          "name": "stdout",
          "text": [
            "  % Total    % Received % Xferd  Average Speed   Time    Time     Time  Current\n",
            "                                 Dload  Upload   Total   Spent    Left  Speed\n",
            "100 62019  100 62019    0     0   206k      0 --:--:-- --:--:-- --:--:--  206k\n"
          ]
        }
      ]
    },
    {
      "cell_type": "code",
      "source": [
        "! curl https://raw.githubusercontent.com/selfedu-rus/neural-network/master/img_style.jpg --output img_style.jpg"
      ],
      "metadata": {
        "colab": {
          "base_uri": "https://localhost:8080/"
        },
        "id": "VP7NSaa7V2Wa",
        "outputId": "cf96df2f-bf45-4b72-bc30-7abd6c29b14a"
      },
      "execution_count": null,
      "outputs": [
        {
          "output_type": "stream",
          "name": "stdout",
          "text": [
            "  % Total    % Received % Xferd  Average Speed   Time    Time     Time  Current\n",
            "                                 Dload  Upload   Total   Spent    Left  Speed\n",
            "\r  0     0    0     0    0     0      0      0 --:--:-- --:--:-- --:--:--     0\r100 66649  100 66649    0     0   253k      0 --:--:-- --:--:-- --:--:--  253k\n"
          ]
        }
      ]
    },
    {
      "cell_type": "code",
      "source": [
        "import numpy as np\n",
        "import matplotlib.pyplot as plt\n",
        "from google.colab import files\n",
        "from io import BytesIO\n",
        "from PIL import Image\n",
        "\n",
        "import tensorflow as tf\n",
        "from tensorflow import keras\n",
        "\n",
        "\n",
        "# upl = files.upload()\n",
        "# img = Image.open(BytesIO(upl['img.jpg']))\n",
        "# img_style = Image.open(BytesIO(upl['img_style.jpg']))"
      ],
      "metadata": {
        "id": "aM4s2DthWBMs"
      },
      "execution_count": null,
      "outputs": []
    },
    {
      "cell_type": "code",
      "source": [
        "plt.subplot(1, 2, 1)\n",
        "plt.imshow(img)\n",
        "plt.subplot(1, 2, 2)\n",
        "plt.imshow(img_style)\n",
        "plt.show()"
      ],
      "metadata": {
        "colab": {
          "base_uri": "https://localhost:8080/",
          "height": 204
        },
        "id": "G4TrF2ZjXin1",
        "outputId": "a1047a3a-d4fe-414e-a2d7-e92360b0e842"
      },
      "execution_count": null,
      "outputs": [
        {
          "output_type": "display_data",
          "data": {
            "text/plain": [
              "<Figure size 432x288 with 2 Axes>"
            ],
            "image/png": "[encoded data removed]"
          },
          "metadata": {
            "needs_background": "light"
          }
        }
      ]
    },
    {
      "cell_type": "code",
      "source": [
        "# преобразование входных изображений в те , кторые воспринимает сеть VGG19 RGB -> BGR інвертуються кольори\n",
        "\n",
        "x_img = keras.applications.vgg19.preprocess_input( np.expand_dims(img, axis=0) )\n",
        "x_style = keras.applications.vgg19.preprocess_input(np.expand_dims(img_style, axis=0))"
      ],
      "metadata": {
        "id": "7FWAzB48X66v"
      },
      "execution_count": null,
      "outputs": []
    },
    {
      "cell_type": "code",
      "source": [
        "# Преобразовывает формат изображения обратно BGR -> RGB  103.939 , 116.779 , 123.68 - середні по кольорам , вони були вичтенні у минулій операції\n",
        "\n",
        "def deprocess_img(processed_img):\n",
        "  x = processed_img.copy()\n",
        "  if len(x.shape) == 4:\n",
        "    x = np.squeeze(x, 0) # прибираємо нульову вісь axis=0 , див. у гору\n",
        "  assert len(x.shape) == 3, (\"Input to deprocess image must be an image of \"\n",
        "                             \"dimension [1, height, width, channel] or [height, width, channel]\")\n",
        "  if len(x.shape) != 3:\n",
        "    raise ValueError(\"Invalid input to deprocessing image\")\n",
        "  \n",
        "  # perform the inverse of the preprocessing step\n",
        "  x[:, :, 0] += 103.939\n",
        "  x[:, :, 1] += 116.779\n",
        "  x[:, :, 2] += 123.68\n",
        "  x = x[:, :, ::-1] # BGR -> RGB\n",
        "\n",
        "  x = np.clip(x, 0, 255).astype('uint8')\n",
        "  return x\n"
      ],
      "metadata": {
        "id": "A7eFC0sypxjh"
      },
      "execution_count": null,
      "outputs": []
    },
    {
      "cell_type": "code",
      "source": [
        "# определяем слои\n",
        "\n",
        "# Content layer where will pull our feature maps\n",
        "content_layers = ['block5_conv2'] \n",
        "\n",
        "# Style layer we are interested in\n",
        "style_layers = ['block1_conv1',\n",
        "                'block2_conv1',\n",
        "                'block3_conv1', \n",
        "                'block4_conv1', \n",
        "                'block5_conv1'\n",
        "]\n",
        "\n",
        "num_content_layers = len(content_layers)\n",
        "num_style_layers = len(style_layers)"
      ],
      "metadata": {
        "id": "b1ele9pRra0D"
      },
      "execution_count": null,
      "outputs": []
    },
    {
      "cell_type": "code",
      "source": [
        "vgg = keras.applications.vgg19.VGG19(include_top=False, weights='imagenet')\n",
        "vgg.trainable = False "
      ],
      "metadata": {
        "colab": {
          "base_uri": "https://localhost:8080/"
        },
        "id": "ip33e3n5rug6",
        "outputId": "892d37fb-cef8-4638-9733-52a35511edc7"
      },
      "execution_count": null,
      "outputs": [
        {
          "output_type": "stream",
          "name": "stdout",
          "text": [
            "Downloading data from https://storage.googleapis.com/tensorflow/keras-applications/vgg19/vgg19_weights_tf_dim_ordering_tf_kernels_notop.h5\n",
            "80142336/80134624 [==============================] - 1s 0us/step\n",
            "80150528/80134624 [==============================] - 1s 0us/step\n"
          ]
        }
      ]
    },
    {
      "cell_type": "code",
      "source": [
        "# На сонові блоків вище створюємо блок моделі VGG19 Звадяки ось цьому keras.models.Model\n",
        "\n",
        "style_outputs = [vgg.get_layer(name).output for name in style_layers]\n",
        "content_outputs = [vgg.get_layer(name).output for name in content_layers]\n",
        "model_outputs = style_outputs + content_outputs\n",
        "\n",
        "print(vgg.input)\n",
        "for m in model_outputs:\n",
        "  print(m)\n",
        "\n",
        "model = keras.models.Model(vgg.input, model_outputs)\n",
        "for layer in model.layers:\n",
        "    layer.trainable = False\n",
        "\n",
        "print(model.summary())      # вывод структуры НС в консоль"
      ],
      "metadata": {
        "colab": {
          "base_uri": "https://localhost:8080/"
        },
        "id": "HXHSzfdYsCHB",
        "outputId": "eeb5ae49-a91d-496e-f7b2-b4ea4a882c9e"
      },
      "execution_count": null,
      "outputs": [
        {
          "output_type": "stream",
          "name": "stdout",
          "text": [
            "KerasTensor(type_spec=TensorSpec(shape=(None, None, None, 3), dtype=tf.float32, name='input_1'), name='input_1', description=\"created by layer 'input_1'\")\n",
            "KerasTensor(type_spec=TensorSpec(shape=(None, None, None, 64), dtype=tf.float32, name=None), name='block1_conv1/Relu:0', description=\"created by layer 'block1_conv1'\")\n",
            "KerasTensor(type_spec=TensorSpec(shape=(None, None, None, 128), dtype=tf.float32, name=None), name='block2_conv1/Relu:0', description=\"created by layer 'block2_conv1'\")\n",
            "KerasTensor(type_spec=TensorSpec(shape=(None, None, None, 256), dtype=tf.float32, name=None), name='block3_conv1/Relu:0', description=\"created by layer 'block3_conv1'\")\n",
            "KerasTensor(type_spec=TensorSpec(shape=(None, None, None, 512), dtype=tf.float32, name=None), name='block4_conv1/Relu:0', description=\"created by layer 'block4_conv1'\")\n",
            "KerasTensor(type_spec=TensorSpec(shape=(None, None, None, 512), dtype=tf.float32, name=None), name='block5_conv1/Relu:0', description=\"created by layer 'block5_conv1'\")\n",
            "KerasTensor(type_spec=TensorSpec(shape=(None, None, None, 512), dtype=tf.float32, name=None), name='block5_conv2/Relu:0', description=\"created by layer 'block5_conv2'\")\n",
            "Model: \"model_1\"\n",
            "_________________________________________________________________\n",
            " Layer (type)                Output Shape              Param #   \n",
            "=================================================================\n",
            " input_1 (InputLayer)        [(None, None, None, 3)]   0         \n",
            "                                                                 \n",
            " block1_conv1 (Conv2D)       (None, None, None, 64)    1792      \n",
            "                                                                 \n",
            " block1_conv2 (Conv2D)       (None, None, None, 64)    36928     \n",
            "                                                                 \n",
            " block1_pool (MaxPooling2D)  (None, None, None, 64)    0         \n",
            "                                                                 \n",
            " block2_conv1 (Conv2D)       (None, None, None, 128)   73856     \n",
            "                                                                 \n",
            " block2_conv2 (Conv2D)       (None, None, None, 128)   147584    \n",
            "                                                                 \n",
            " block2_pool (MaxPooling2D)  (None, None, None, 128)   0         \n",
            "                                                                 \n",
            " block3_conv1 (Conv2D)       (None, None, None, 256)   295168    \n",
            "                                                                 \n",
            " block3_conv2 (Conv2D)       (None, None, None, 256)   590080    \n",
            "                                                                 \n",
            " block3_conv3 (Conv2D)       (None, None, None, 256)   590080    \n",
            "                                                                 \n",
            " block3_conv4 (Conv2D)       (None, None, None, 256)   590080    \n",
            "                                                                 \n",
            " block3_pool (MaxPooling2D)  (None, None, None, 256)   0         \n",
            "                                                                 \n",
            " block4_conv1 (Conv2D)       (None, None, None, 512)   1180160   \n",
            "                                                                 \n",
            " block4_conv2 (Conv2D)       (None, None, None, 512)   2359808   \n",
            "                                                                 \n",
            " block4_conv3 (Conv2D)       (None, None, None, 512)   2359808   \n",
            "                                                                 \n",
            " block4_conv4 (Conv2D)       (None, None, None, 512)   2359808   \n",
            "                                                                 \n",
            " block4_pool (MaxPooling2D)  (None, None, None, 512)   0         \n",
            "                                                                 \n",
            " block5_conv1 (Conv2D)       (None, None, None, 512)   2359808   \n",
            "                                                                 \n",
            " block5_conv2 (Conv2D)       (None, None, None, 512)   2359808   \n",
            "                                                                 \n",
            "=================================================================\n",
            "Total params: 15,304,768\n",
            "Trainable params: 0\n",
            "Non-trainable params: 15,304,768\n",
            "_________________________________________________________________\n",
            "None\n"
          ]
        }
      ]
    },
    {
      "cell_type": "code",
      "source": [
        "def get_feature_representations(model):\n",
        "  # batch compute content and style features\n",
        "  style_outputs = model(x_style)\n",
        "  content_outputs = model(x_img)\n",
        "  \n",
        "  # Get the style and content feature representations from our model  \n",
        "  style_features = [style_layer[0] for style_layer in style_outputs[:num_style_layers]]\n",
        "  content_features = [content_layer[0] for content_layer in content_outputs[num_style_layers:]]\n",
        "  return style_features, content_features"
      ],
      "metadata": {
        "id": "yLUEdO5ow14t"
      },
      "execution_count": null,
      "outputs": []
    },
    {
      "cell_type": "code",
      "source": [
        "# Втрати по контенту , ісходна картинка\n",
        "\n",
        "def get_content_loss(base_content, target):\n",
        "  return tf.reduce_mean(tf.square(base_content - target))"
      ],
      "metadata": {
        "id": "qCPt7CYht_ut"
      },
      "execution_count": null,
      "outputs": []
    },
    {
      "cell_type": "code",
      "source": [
        "# Ініші функції це втрати по стилю\n",
        "\n",
        "def gram_matrix(input_tensor):\n",
        "  # We make the image channels first \n",
        "  channels = int(input_tensor.shape[-1])\n",
        "  a = tf.reshape(input_tensor, [-1, channels])\n",
        "  n = tf.shape(a)[0]\n",
        "  gram = tf.matmul(a, a, transpose_a=True)\n",
        "  return gram / tf.cast(n, tf.float32)"
      ],
      "metadata": {
        "id": "Eo49JBGBufDT"
      },
      "execution_count": null,
      "outputs": []
    },
    {
      "cell_type": "code",
      "source": [
        "def get_style_loss(base_style, gram_target):\n",
        "  gram_style = gram_matrix(base_style)\n",
        "  return tf.reduce_mean(tf.square(gram_style - gram_target))"
      ],
      "metadata": {
        "id": "JXdOKTV1vYMf"
      },
      "execution_count": null,
      "outputs": []
    },
    {
      "cell_type": "code",
      "source": [
        "# Спільна функція для обчислення втрат\n",
        "\n",
        "def compute_loss(model, loss_weights, init_image, gram_style_features, content_features):\n",
        "  style_weight, content_weight = loss_weights\n",
        "  \n",
        "  model_outputs = model(init_image)\n",
        "  \n",
        "  style_output_features = model_outputs[:num_style_layers]\n",
        "  content_output_features = model_outputs[num_style_layers:]\n",
        "  \n",
        "  style_score = 0\n",
        "  content_score = 0\n",
        "\n",
        "  # Accumulate style losses from all layers\n",
        "  # Here, we equally weight each contribution of each loss layer\n",
        "  weight_per_style_layer = 1.0 / float(num_style_layers)\n",
        "  for target_style, comb_style in zip(gram_style_features, style_output_features):\n",
        "    style_score += weight_per_style_layer * get_style_loss(comb_style[0], target_style)\n",
        "    \n",
        "  # Accumulate content losses from all layers \n",
        "  weight_per_content_layer = 1.0 / float(num_content_layers)\n",
        "  for target_content, comb_content in zip(content_features, content_output_features):\n",
        "    content_score += weight_per_content_layer* get_content_loss(comb_content[0], target_content)\n",
        "  \n",
        "  style_score *= style_weight\n",
        "  content_score *= content_weight\n",
        "\n",
        "  # Get total loss\n",
        "  loss = style_score + content_score \n",
        "  return loss, style_score, content_score"
      ],
      "metadata": {
        "id": "vnizCz2Evvgx"
      },
      "execution_count": null,
      "outputs": []
    },
    {
      "cell_type": "code",
      "source": [
        "num_iterations=100\n",
        "content_weight=1e3 # -> a \n",
        "style_weight=1e-2 # -> ß\n",
        "\n",
        "style_features, content_features = get_feature_representations(model)\n",
        "gram_style_features = [gram_matrix(style_feature) for style_feature in style_features]\n",
        "\n",
        "init_image = np.copy(x_img) # початкове зображення \n",
        "init_image = tf.Variable(init_image, dtype=tf.float32) # преобразовуємо\n",
        "\n",
        "opt = tf.compat.v1.train.AdamOptimizer(learning_rate=2, beta1=0.99, epsilon=1e-1)\n",
        "iter_count = 1\n",
        "best_loss, best_img = float('inf'), None\n",
        "loss_weights = (style_weight, content_weight)\n",
        "\n",
        "cfg = {\n",
        "      'model': model,\n",
        "      'loss_weights': loss_weights,\n",
        "      'init_image': init_image,\n",
        "      'gram_style_features': gram_style_features,\n",
        "      'content_features': content_features\n",
        "}\n",
        "\n",
        "# BGR - RGB\n",
        "norm_means = np.array([103.939, 116.779, 123.68])\n",
        "min_vals = -norm_means\n",
        "max_vals = 255 - norm_means\n",
        "imgs = []\n",
        "\n",
        "# Запуск алгоритму градієнтного спуску\n",
        "for i in range(num_iterations):\n",
        "    with tf.GradientTape() as tape: \n",
        "       all_loss = compute_loss(**cfg)\n",
        "    \n",
        "    loss, style_score, content_score = all_loss\n",
        "    grads = tape.gradient(loss, init_image)\n",
        "\n",
        "    opt.apply_gradients([(grads, init_image)])\n",
        "    clipped = tf.clip_by_value(init_image, min_vals, max_vals) # ограничение пикселя изображения \n",
        "    init_image.assign(clipped)\n",
        "    \n",
        "    if loss < best_loss:\n",
        "      # Update best loss and best image from total loss. \n",
        "      best_loss = loss\n",
        "      best_img = deprocess_img(init_image.numpy())\n",
        "\n",
        "      # Use the .numpy() method to get the concrete numpy array\n",
        "      plot_img = deprocess_img(init_image.numpy())\n",
        "      imgs.append(plot_img)\n",
        "      print('Iteration: {}'.format(i))"
      ],
      "metadata": {
        "colab": {
          "base_uri": "https://localhost:8080/"
        },
        "id": "6K0RFyYrwpmN",
        "outputId": "233c6573-62a0-4b25-bbb9-3f77e5858a73"
      },
      "execution_count": null,
      "outputs": [
        {
          "output_type": "stream",
          "name": "stdout",
          "text": [
            "Iteration: 0\n",
            "Iteration: 1\n",
            "Iteration: 2\n",
            "Iteration: 3\n",
            "Iteration: 4\n",
            "Iteration: 5\n",
            "Iteration: 6\n",
            "Iteration: 7\n",
            "Iteration: 8\n",
            "Iteration: 9\n",
            "Iteration: 10\n",
            "Iteration: 11\n",
            "Iteration: 12\n",
            "Iteration: 13\n",
            "Iteration: 14\n",
            "Iteration: 15\n",
            "Iteration: 16\n",
            "Iteration: 17\n",
            "Iteration: 18\n",
            "Iteration: 19\n",
            "Iteration: 20\n",
            "Iteration: 21\n",
            "Iteration: 22\n",
            "Iteration: 23\n",
            "Iteration: 24\n",
            "Iteration: 25\n",
            "Iteration: 26\n",
            "Iteration: 27\n",
            "Iteration: 28\n",
            "Iteration: 31\n",
            "Iteration: 32\n",
            "Iteration: 33\n",
            "Iteration: 34\n",
            "Iteration: 35\n",
            "Iteration: 36\n",
            "Iteration: 37\n",
            "Iteration: 38\n",
            "Iteration: 39\n",
            "Iteration: 40\n",
            "Iteration: 41\n",
            "Iteration: 42\n",
            "Iteration: 43\n",
            "Iteration: 44\n",
            "Iteration: 45\n",
            "Iteration: 46\n",
            "Iteration: 47\n",
            "Iteration: 48\n",
            "Iteration: 49\n",
            "Iteration: 50\n",
            "Iteration: 51\n",
            "Iteration: 52\n",
            "Iteration: 53\n",
            "Iteration: 54\n",
            "Iteration: 55\n",
            "Iteration: 56\n",
            "Iteration: 57\n",
            "Iteration: 58\n",
            "Iteration: 59\n",
            "Iteration: 60\n",
            "Iteration: 61\n",
            "Iteration: 62\n",
            "Iteration: 63\n",
            "Iteration: 64\n",
            "Iteration: 65\n",
            "Iteration: 66\n",
            "Iteration: 67\n",
            "Iteration: 68\n",
            "Iteration: 69\n",
            "Iteration: 70\n",
            "Iteration: 71\n",
            "Iteration: 72\n",
            "Iteration: 73\n",
            "Iteration: 74\n",
            "Iteration: 75\n",
            "Iteration: 76\n",
            "Iteration: 77\n",
            "Iteration: 78\n",
            "Iteration: 79\n",
            "Iteration: 80\n",
            "Iteration: 81\n",
            "Iteration: 82\n",
            "Iteration: 83\n",
            "Iteration: 84\n",
            "Iteration: 85\n",
            "Iteration: 86\n",
            "Iteration: 87\n",
            "Iteration: 88\n",
            "Iteration: 89\n",
            "Iteration: 90\n",
            "Iteration: 91\n",
            "Iteration: 92\n",
            "Iteration: 93\n",
            "Iteration: 94\n",
            "Iteration: 95\n",
            "Iteration: 96\n",
            "Iteration: 97\n",
            "Iteration: 98\n",
            "Iteration: 99\n"
          ]
        }
      ]
    },
    {
      "cell_type": "code",
      "source": [
        "plt.imshow(best_img)\n",
        "print(best_loss)"
      ],
      "metadata": {
        "colab": {
          "base_uri": "https://localhost:8080/",
          "height": 287
        },
        "id": "YgsLc_zky-am",
        "outputId": "5d23a93c-01f1-4e50-dc4c-79a8b9bd8398"
      },
      "execution_count": null,
      "outputs": [
        {
          "output_type": "stream",
          "name": "stdout",
          "text": [
            "tf.Tensor(6467593.0, shape=(), dtype=float32)\n"
          ]
        },
        {
          "output_type": "display_data",
          "data": {
            "text/plain": [
              "<Figure size 432x288 with 1 Axes>"
            ],
            "image/png": "[encoded data removed]"
          },
          "metadata": {
            "needs_background": "light"
          }
        }
      ]
    },
    {
      "cell_type": "code",
      "source": [
        "image = Image.fromarray(best_img.astype('uint8'), 'RGB')\n",
        "image.save(\"result.jpg\")\n",
        "files.download(\"result.jpg\")"
      ],
      "metadata": {
        "colab": {
          "base_uri": "https://localhost:8080/",
          "height": 34
        },
        "id": "kKHdrs7YzAUV",
        "outputId": "8737fb0f-352a-42f3-f130-4360448b8985"
      },
      "execution_count": null,
      "outputs": [
        {
          "output_type": "display_data",
          "data": {
            "text/plain": [
              "<IPython.core.display.Javascript object>"
            ],
            "application/javascript": [
              "\n",
              "    async function download(id, filename, size) {\n",
              "      if (!google.colab.kernel.accessAllowed) {\n",
              "        return;\n",
              "      }\n",
              "      const div = document.createElement('div');\n",
              "      const label = document.createElement('label');\n",
              "      label.textContent = `Downloading \"${filename}\": `;\n",
              "      div.appendChild(label);\n",
              "      const progress = document.createElement('progress');\n",
              "      progress.max = size;\n",
              "      div.appendChild(progress);\n",
              "      document.body.appendChild(div);\n",
              "\n",
              "      const buffers = [];\n",
              "      let downloaded = 0;\n",
              "\n",
              "      const channel = await google.colab.kernel.comms.open(id);\n",
              "      // Send a message to notify the kernel that we're ready.\n",
              "      channel.send({})\n",
              "\n",
              "      for await (const message of channel.messages) {\n",
              "        // Send a message to notify the kernel that we're ready.\n",
              "        channel.send({})\n",
              "        if (message.buffers) {\n",
              "          for (const buffer of message.buffers) {\n",
              "            buffers.push(buffer);\n",
              "            downloaded += buffer.byteLength;\n",
              "            progress.value = downloaded;\n",
              "          }\n",
              "        }\n",
              "      }\n",
              "      const blob = new Blob(buffers, {type: 'application/binary'});\n",
              "      const a = document.createElement('a');\n",
              "      a.href = window.URL.createObjectURL(blob);\n",
              "      a.download = filename;\n",
              "      div.appendChild(a);\n",
              "      a.click();\n",
              "      div.remove();\n",
              "    }\n",
              "  "
            ]
          },
          "metadata": {}
        },
        {
          "output_type": "display_data",
          "data": {
            "text/plain": [
              "<IPython.core.display.Javascript object>"
            ],
            "application/javascript": [
              "download(\"download_ed0ecfda-fe8c-4cef-ab2c-2d6d91e0c7e8\", \"result.jpg\", 19479)"
            ]
          },
          "metadata": {}
        }
      ]
    }
  ],
  "metadata": {
    "colab": {
      "provenance": [],
      "authorship_tag": "ABX9TyOCRda+UH7vDXkv4nEbS1Of",
      "include_colab_link": true
    },
    "kernelspec": {
      "display_name": "Python 3",
      "name": "python3"
    },
    "language_info": {
      "name": "python"
    }
  },
  "nbformat": 4,
  "nbformat_minor": 0
}