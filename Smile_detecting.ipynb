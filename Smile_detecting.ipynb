{
  "nbformat": 4,
  "nbformat_minor": 0,
  "metadata": {
    "colab": {
      "provenance": [],
      "authorship_tag": "ABX9TyN8d7P9ecllgZUsWFSO+zgE",
      "include_colab_link": true
    },
    "kernelspec": {
      "name": "python3",
      "display_name": "Python 3"
    },
    "language_info": {
      "name": "python"
    }
  },
  "cells": [
    {
      "cell_type": "markdown",
      "metadata": {
        "id": "view-in-github",
        "colab_type": "text"
      },
      "source": [
        "<a href=\"https://colab.research.google.com/github/mark-polo/machine-learning/blob/main/Smile_detecting.ipynb\" target=\"_parent\"><img src=\"https://colab.research.google.com/assets/colab-badge.svg\" alt=\"Open In Colab\"/></a>"
      ]
    },
    {
      "cell_type": "code",
      "source": [
        "! git clone \"https://github.com/mark-polo/Kaggle-competitions.git\""
      ],
      "metadata": {
        "colab": {
          "base_uri": "https://localhost:8080/"
        },
        "id": "WZiA7WDVNwL6",
        "outputId": "2ef22c98-fdcc-41c9-f086-6038a6dfe24b"
      },
      "execution_count": null,
      "outputs": [
        {
          "output_type": "stream",
          "name": "stdout",
          "text": [
            "Cloning into 'Kaggle-competitions'...\n",
            "remote: Enumerating objects: 31701, done.\u001b[K\n",
            "remote: Counting objects: 100% (13246/13246), done.\u001b[K\n",
            "remote: Compressing objects: 100% (13154/13154), done.\u001b[K\n",
            "remote: Total 31701 (delta 95), reused 13242 (delta 92), pack-reused 18455\n",
            "Receiving objects: 100% (31701/31701), 943.12 MiB | 23.42 MiB/s, done.\n",
            "Resolving deltas: 100% (125/125), done.\n",
            "Checking out files: 100% (32062/32062), done.\n"
          ]
        }
      ]
    },
    {
      "cell_type": "code",
      "source": [
        "! git clone \"https://github.com/opencv/opencv.git\""
      ],
      "metadata": {
        "colab": {
          "base_uri": "https://localhost:8080/"
        },
        "id": "qhtHT8TVmeBQ",
        "outputId": "0588351b-e4a7-46fa-aa8b-a9f4ef51de6f"
      },
      "execution_count": null,
      "outputs": [
        {
          "output_type": "stream",
          "name": "stdout",
          "text": [
            "Cloning into 'opencv'...\n",
            "remote: Enumerating objects: 310492, done.\u001b[K\n",
            "remote: Counting objects: 100% (61/61), done.\u001b[K\n",
            "remote: Compressing objects: 100% (44/44), done.\u001b[K\n",
            "remote: Total 310492 (delta 18), reused 45 (delta 13), pack-reused 310431\u001b[K\n",
            "Receiving objects: 100% (310492/310492), 498.11 MiB | 23.00 MiB/s, done.\n",
            "Resolving deltas: 100% (216161/216161), done.\n",
            "Checking out files: 100% (7248/7248), done.\n"
          ]
        }
      ]
    },
    {
      "cell_type": "code",
      "execution_count": null,
      "metadata": {
        "id": "_UYPZYijI6_T"
      },
      "outputs": [],
      "source": [
        "import numpy as np\n",
        "import pandas as pd\n",
        "import os\n",
        "from pathlib import Path\n",
        "import tensorflow as tf\n",
        "from sklearn.model_selection import train_test_split\n",
        "import matplotlib.pyplot as plt\n",
        "import cv2 as cv\n",
        "from tensorflow import keras\n",
        "from tensorflow.keras import layers,models\n",
        "from keras.preprocessing.image import ImageDataGenerator\n",
        "from keras.models import Sequential\n",
        "from keras.layers import Conv2D, MaxPooling2D, Dense, Flatten, Dropout\n",
        "from tensorflow.keras.callbacks import Callback, EarlyStopping,ModelCheckpoint\n",
        "from tensorflow.keras.optimizers import Adam\n",
        "from tensorflow.keras.layers.experimental import preprocessing\n",
        "from tensorflow.keras.models import Model\n",
        "from tensorflow.keras.models import load_model\n",
        "from google.colab.patches import cv2_imshow\n",
        "\n",
        "from PIL import Image"
      ]
    },
    {
      "cell_type": "code",
      "source": [
        "SIZE = (60,60)\n",
        "SHAPE = (60,60,3)\n",
        "units = 2\n",
        "\n",
        "dataset = \"/content/Kaggle-competitions/smile-not-smile\""
      ],
      "metadata": {
        "id": "-3k8n9acJARH"
      },
      "execution_count": null,
      "outputs": []
    },
    {
      "cell_type": "code",
      "source": [
        "image_dir = Path(dataset)\n",
        "\n",
        "filepaths = list(image_dir.glob(r'**/*.JPG')) + list(image_dir.glob(r'**/*.jpg')) + list(image_dir.glob(r'**/*.png')) + list(image_dir.glob(r'**/*.png'))\n",
        "\n",
        "labels = list(map(lambda x: os.path.split(os.path.split(x)[0])[1], filepaths))\n",
        "\n",
        "filepaths = pd.Series(filepaths, name='Filepath').astype(str)\n",
        "labels = pd.Series(labels, name='Label')\n",
        "\n",
        "df = pd.concat([filepaths, labels], axis=1)"
      ],
      "metadata": {
        "id": "ytEKium8JCva"
      },
      "execution_count": null,
      "outputs": []
    },
    {
      "cell_type": "code",
      "source": [
        "dfn = df[df[\"Label\"] != \"test\"].copy()"
      ],
      "metadata": {
        "id": "a0HcgP_4JHh3"
      },
      "execution_count": null,
      "outputs": []
    },
    {
      "cell_type": "code",
      "source": [
        "dfn"
      ],
      "metadata": {
        "colab": {
          "base_uri": "https://localhost:8080/",
          "height": 424
        },
        "id": "w3e-8M_9PEwt",
        "outputId": "53c1893e-071b-499a-c37d-4a011102c7e2"
      },
      "execution_count": null,
      "outputs": [
        {
          "output_type": "execute_result",
          "data": {
            "text/plain": [
              "                                                Filepath      Label\n",
              "12030  /content/Kaggle-competitions/smile-not-smile/n...  non_smile\n",
              "12031  /content/Kaggle-competitions/smile-not-smile/n...  non_smile\n",
              "12032  /content/Kaggle-competitions/smile-not-smile/n...  non_smile\n",
              "12033  /content/Kaggle-competitions/smile-not-smile/n...  non_smile\n",
              "12034  /content/Kaggle-competitions/smile-not-smile/n...  non_smile\n",
              "...                                                  ...        ...\n",
              "13228  /content/Kaggle-competitions/smile-not-smile/s...      smile\n",
              "13229  /content/Kaggle-competitions/smile-not-smile/s...      smile\n",
              "13230  /content/Kaggle-competitions/smile-not-smile/s...      smile\n",
              "13231  /content/Kaggle-competitions/smile-not-smile/s...      smile\n",
              "13232  /content/Kaggle-competitions/smile-not-smile/s...      smile\n",
              "\n",
              "[1203 rows x 2 columns]"
            ],
            "text/html": [
              "\n",
              "  <div id=\"df-da2ef0b6-7f3d-4a6f-85e8-4ec2729c188a\">\n",
              "    <div class=\"colab-df-container\">\n",
              "      <div>\n",
              "<style scoped>\n",
              "    .dataframe tbody tr th:only-of-type {\n",
              "        vertical-align: middle;\n",
              "    }\n",
              "\n",
              "    .dataframe tbody tr th {\n",
              "        vertical-align: top;\n",
              "    }\n",
              "\n",
              "    .dataframe thead th {\n",
              "        text-align: right;\n",
              "    }\n",
              "</style>\n",
              "<table border=\"1\" class=\"dataframe\">\n",
              "  <thead>\n",
              "    <tr style=\"text-align: right;\">\n",
              "      <th></th>\n",
              "      <th>Filepath</th>\n",
              "      <th>Label</th>\n",
              "    </tr>\n",
              "  </thead>\n",
              "  <tbody>\n",
              "    <tr>\n",
              "      <th>12030</th>\n",
              "      <td>/content/Kaggle-competitions/smile-not-smile/n...</td>\n",
              "      <td>non_smile</td>\n",
              "    </tr>\n",
              "    <tr>\n",
              "      <th>12031</th>\n",
              "      <td>/content/Kaggle-competitions/smile-not-smile/n...</td>\n",
              "      <td>non_smile</td>\n",
              "    </tr>\n",
              "    <tr>\n",
              "      <th>12032</th>\n",
              "      <td>/content/Kaggle-competitions/smile-not-smile/n...</td>\n",
              "      <td>non_smile</td>\n",
              "    </tr>\n",
              "    <tr>\n",
              "      <th>12033</th>\n",
              "      <td>/content/Kaggle-competitions/smile-not-smile/n...</td>\n",
              "      <td>non_smile</td>\n",
              "    </tr>\n",
              "    <tr>\n",
              "      <th>12034</th>\n",
              "      <td>/content/Kaggle-competitions/smile-not-smile/n...</td>\n",
              "      <td>non_smile</td>\n",
              "    </tr>\n",
              "    <tr>\n",
              "      <th>...</th>\n",
              "      <td>...</td>\n",
              "      <td>...</td>\n",
              "    </tr>\n",
              "    <tr>\n",
              "      <th>13228</th>\n",
              "      <td>/content/Kaggle-competitions/smile-not-smile/s...</td>\n",
              "      <td>smile</td>\n",
              "    </tr>\n",
              "    <tr>\n",
              "      <th>13229</th>\n",
              "      <td>/content/Kaggle-competitions/smile-not-smile/s...</td>\n",
              "      <td>smile</td>\n",
              "    </tr>\n",
              "    <tr>\n",
              "      <th>13230</th>\n",
              "      <td>/content/Kaggle-competitions/smile-not-smile/s...</td>\n",
              "      <td>smile</td>\n",
              "    </tr>\n",
              "    <tr>\n",
              "      <th>13231</th>\n",
              "      <td>/content/Kaggle-competitions/smile-not-smile/s...</td>\n",
              "      <td>smile</td>\n",
              "    </tr>\n",
              "    <tr>\n",
              "      <th>13232</th>\n",
              "      <td>/content/Kaggle-competitions/smile-not-smile/s...</td>\n",
              "      <td>smile</td>\n",
              "    </tr>\n",
              "  </tbody>\n",
              "</table>\n",
              "<p>1203 rows × 2 columns</p>\n",
              "</div>\n",
              "      <button class=\"colab-df-convert\" onclick=\"convertToInteractive('df-da2ef0b6-7f3d-4a6f-85e8-4ec2729c188a')\"\n",
              "              title=\"Convert this dataframe to an interactive table.\"\n",
              "              style=\"display:none;\">\n",
              "        \n",
              "  <svg xmlns=\"http://www.w3.org/2000/svg\" height=\"24px\"viewBox=\"0 0 24 24\"\n",
              "       width=\"24px\">\n",
              "    <path d=\"M0 0h24v24H0V0z\" fill=\"none\"/>\n",
              "    <path d=\"M18.56 5.44l.94 2.06.94-2.06 2.06-.94-2.06-.94-.94-2.06-.94 2.06-2.06.94zm-11 1L8.5 8.5l.94-2.06 2.06-.94-2.06-.94L8.5 2.5l-.94 2.06-2.06.94zm10 10l.94 2.06.94-2.06 2.06-.94-2.06-.94-.94-2.06-.94 2.06-2.06.94z\"/><path d=\"M17.41 7.96l-1.37-1.37c-.4-.4-.92-.59-1.43-.59-.52 0-1.04.2-1.43.59L10.3 9.45l-7.72 7.72c-.78.78-.78 2.05 0 2.83L4 21.41c.39.39.9.59 1.41.59.51 0 1.02-.2 1.41-.59l7.78-7.78 2.81-2.81c.8-.78.8-2.07 0-2.86zM5.41 20L4 18.59l7.72-7.72 1.47 1.35L5.41 20z\"/>\n",
              "  </svg>\n",
              "      </button>\n",
              "      \n",
              "  <style>\n",
              "    .colab-df-container {\n",
              "      display:flex;\n",
              "      flex-wrap:wrap;\n",
              "      gap: 12px;\n",
              "    }\n",
              "\n",
              "    .colab-df-convert {\n",
              "      background-color: #E8F0FE;\n",
              "      border: none;\n",
              "      border-radius: 50%;\n",
              "      cursor: pointer;\n",
              "      display: none;\n",
              "      fill: #1967D2;\n",
              "      height: 32px;\n",
              "      padding: 0 0 0 0;\n",
              "      width: 32px;\n",
              "    }\n",
              "\n",
              "    .colab-df-convert:hover {\n",
              "      background-color: #E2EBFA;\n",
              "      box-shadow: 0px 1px 2px rgba(60, 64, 67, 0.3), 0px 1px 3px 1px rgba(60, 64, 67, 0.15);\n",
              "      fill: #174EA6;\n",
              "    }\n",
              "\n",
              "    [theme=dark] .colab-df-convert {\n",
              "      background-color: #3B4455;\n",
              "      fill: #D2E3FC;\n",
              "    }\n",
              "\n",
              "    [theme=dark] .colab-df-convert:hover {\n",
              "      background-color: #434B5C;\n",
              "      box-shadow: 0px 1px 3px 1px rgba(0, 0, 0, 0.15);\n",
              "      filter: drop-shadow(0px 1px 2px rgba(0, 0, 0, 0.3));\n",
              "      fill: #FFFFFF;\n",
              "    }\n",
              "  </style>\n",
              "\n",
              "      <script>\n",
              "        const buttonEl =\n",
              "          document.querySelector('#df-da2ef0b6-7f3d-4a6f-85e8-4ec2729c188a button.colab-df-convert');\n",
              "        buttonEl.style.display =\n",
              "          google.colab.kernel.accessAllowed ? 'block' : 'none';\n",
              "\n",
              "        async function convertToInteractive(key) {\n",
              "          const element = document.querySelector('#df-da2ef0b6-7f3d-4a6f-85e8-4ec2729c188a');\n",
              "          const dataTable =\n",
              "            await google.colab.kernel.invokeFunction('convertToInteractive',\n",
              "                                                     [key], {});\n",
              "          if (!dataTable) return;\n",
              "\n",
              "          const docLinkHtml = 'Like what you see? Visit the ' +\n",
              "            '<a target=\"_blank\" href=https://colab.research.google.com/notebooks/data_table.ipynb>data table notebook</a>'\n",
              "            + ' to learn more about interactive tables.';\n",
              "          element.innerHTML = '';\n",
              "          dataTable['output_type'] = 'display_data';\n",
              "          await google.colab.output.renderOutput(dataTable, element);\n",
              "          const docLink = document.createElement('div');\n",
              "          docLink.innerHTML = docLinkHtml;\n",
              "          element.appendChild(docLink);\n",
              "        }\n",
              "      </script>\n",
              "    </div>\n",
              "  </div>\n",
              "  "
            ]
          },
          "metadata": {},
          "execution_count": 6
        }
      ]
    },
    {
      "cell_type": "code",
      "source": [
        "train, valid = train_test_split(dfn, test_size=0.3, random_state=42)"
      ],
      "metadata": {
        "id": "Ecp7VSvTJJs1"
      },
      "execution_count": null,
      "outputs": []
    },
    {
      "cell_type": "code",
      "source": [
        "train_transformed_idg = ImageDataGenerator(\n",
        "        rescale=1 / 255.0,\n",
        "        shear_range=0.05,\n",
        "        width_shift_range=0.05,\n",
        "        horizontal_flip=True,\n",
        "        fill_mode=\"nearest\",\n",
        "        validation_split=0.20)\n",
        "\n",
        "train_idg = ImageDataGenerator(        \n",
        "        rescale=1 / 255.0,\n",
        "        rotation_range=20,\n",
        "        shear_range=0.05,\n",
        "        horizontal_flip=True,\n",
        "        fill_mode=\"nearest\")\n",
        "\n",
        "valid_idg = ImageDataGenerator(rescale= 1 / 255.0)"
      ],
      "metadata": {
        "id": "adz4kiIjJNnO"
      },
      "execution_count": null,
      "outputs": []
    },
    {
      "cell_type": "code",
      "source": [
        "train_transformed = train_transformed_idg.flow_from_dataframe(\n",
        "                                                  dataframe = train,\n",
        "                                                  target_size = SIZE,\n",
        "                                                  batch_size = 32,\n",
        "                                                  class_mode = \"categorical\",\n",
        "                                                  seed = 42,\n",
        "                                                  x_col = 'Filepath',\n",
        "                                                  y_col = 'Label',\n",
        "                                                  shuffle = True)\n",
        "train_original = train_idg.flow_from_dataframe(\n",
        "                                     dataframe=train,\n",
        "                                     target_size= SIZE,\n",
        "                                     batch_size = 32,\n",
        "                                     class_mode = \"categorical\",\n",
        "                                     x_col='Filepath',\n",
        "                                     y_col='Label',\n",
        "                                     shuffle=False)\n",
        "\n",
        "validation = valid_idg.flow_from_dataframe(\n",
        "                                     dataframe=valid,\n",
        "                                     target_size= SIZE,\n",
        "                                     batch_size = 32,\n",
        "                                     x_col='Filepath',\n",
        "                                     y_col='Label',\n",
        "                                     class_mode = \"categorical\",\n",
        "                                     shuffle=False)"
      ],
      "metadata": {
        "colab": {
          "base_uri": "https://localhost:8080/"
        },
        "id": "OaQ5sXlQJR7Q",
        "outputId": "67dd6151-ff09-42be-aef1-3a65446f82df"
      },
      "execution_count": null,
      "outputs": [
        {
          "output_type": "stream",
          "name": "stdout",
          "text": [
            "Found 842 validated image filenames belonging to 2 classes.\n",
            "Found 842 validated image filenames belonging to 2 classes.\n",
            "Found 361 validated image filenames belonging to 2 classes.\n"
          ]
        }
      ]
    },
    {
      "cell_type": "code",
      "source": [
        "pretrained_model = tf.keras.applications.MobileNetV3Large(\n",
        "    input_shape=SHAPE,\n",
        "    include_top=False,\n",
        "    weights='imagenet',\n",
        "    pooling='avg'\n",
        ")\n",
        "\n",
        "pretrained_model.trainable = False"
      ],
      "metadata": {
        "id": "XYAFsg6FPSwG",
        "colab": {
          "base_uri": "https://localhost:8080/"
        },
        "outputId": "4f1b985d-3b19-48c6-fd5b-d9392b37b506"
      },
      "execution_count": null,
      "outputs": [
        {
          "output_type": "stream",
          "name": "stderr",
          "text": [
            "WARNING:tensorflow:`input_shape` is undefined or non-square, or `rows` is not 224. Weights for input shape (224, 224) will be loaded as the default.\n"
          ]
        },
        {
          "output_type": "stream",
          "name": "stdout",
          "text": [
            "Downloading data from https://storage.googleapis.com/tensorflow/keras-applications/mobilenet_v3/weights_mobilenet_v3_large_224_1.0_float_no_top_v2.h5\n",
            "12683000/12683000 [==============================] - 0s 0us/step\n"
          ]
        }
      ]
    },
    {
      "cell_type": "code",
      "source": [
        "model = Sequential([\n",
        "    pretrained_model,\n",
        "    Flatten(),\n",
        "    Dense(256, activation=\"relu\"),\n",
        "    Dense(128, activation=\"relu\"),\n",
        "    Dropout(0.2),\n",
        "    Dense(units, activation=\"softmax\")\n",
        "])"
      ],
      "metadata": {
        "id": "R9qtZnLhf--W"
      },
      "execution_count": null,
      "outputs": []
    },
    {
      "cell_type": "code",
      "source": [
        "model.summary()"
      ],
      "metadata": {
        "colab": {
          "base_uri": "https://localhost:8080/"
        },
        "id": "3vTEWbh6gi1a",
        "outputId": "4db53546-16fe-4a89-a559-1888e238d1ec"
      },
      "execution_count": null,
      "outputs": [
        {
          "output_type": "stream",
          "name": "stdout",
          "text": [
            "Model: \"sequential\"\n",
            "_________________________________________________________________\n",
            " Layer (type)                Output Shape              Param #   \n",
            "=================================================================\n",
            " MobilenetV3large (Functiona  (None, 960)              2996352   \n",
            " l)                                                              \n",
            "                                                                 \n",
            " flatten (Flatten)           (None, 960)               0         \n",
            "                                                                 \n",
            " dense (Dense)               (None, 256)               246016    \n",
            "                                                                 \n",
            " dense_1 (Dense)             (None, 128)               32896     \n",
            "                                                                 \n",
            " dropout (Dropout)           (None, 128)               0         \n",
            "                                                                 \n",
            " dense_2 (Dense)             (None, 19)                2451      \n",
            "                                                                 \n",
            "=================================================================\n",
            "Total params: 3,277,715\n",
            "Trainable params: 281,363\n",
            "Non-trainable params: 2,996,352\n",
            "_________________________________________________________________\n"
          ]
        }
      ]
    },
    {
      "cell_type": "code",
      "source": [
        "early_stopping = EarlyStopping(monitor = \"val_loss\", # watch the val loss metric\n",
        "                               patience = 5,\n",
        "                               restore_best_weights = True)"
      ],
      "metadata": {
        "id": "-6PHn_KGgadZ"
      },
      "execution_count": null,
      "outputs": []
    },
    {
      "cell_type": "code",
      "source": [
        "chekpoint_file = \"/content/chekpoint/cp.ckpt\"\n",
        "checkpoint_dir = os.path.dirname(chekpoint_file)\n",
        "\n",
        "cp_callback = tf.keras.callbacks.ModelCheckpoint(filepath=chekpoint_file,\n",
        "                                                 save_weights_only=True,\n",
        "                                                 verbose=1)"
      ],
      "metadata": {
        "id": "euFozQnagtab"
      },
      "execution_count": null,
      "outputs": []
    },
    {
      "cell_type": "code",
      "source": [
        "model.compile(optimizer=\"adam\", loss=tf.keras.losses.categorical_crossentropy, metrics=['accuracy', tf.keras.metrics.AUC()])"
      ],
      "metadata": {
        "id": "XkH92LuPhim6"
      },
      "execution_count": null,
      "outputs": []
    },
    {
      "cell_type": "code",
      "source": [
        "history = model.fit(train_transformed,\n",
        "                                 epochs=30,\n",
        "                                 steps_per_epoch = len(train_original),\n",
        "                                 validation_data = validation,\n",
        "                                 callbacks=[early_stopping, cp_callback],\n",
        "                                 validation_steps = int(0.25*len(validation)))"
      ],
      "metadata": {
        "colab": {
          "base_uri": "https://localhost:8080/"
        },
        "id": "D_MZbg3hhw1U",
        "outputId": "9935252c-3b95-401e-98b9-fb0bf4c9df1f"
      },
      "execution_count": null,
      "outputs": [
        {
          "output_type": "stream",
          "name": "stdout",
          "text": [
            "Epoch 1/30\n",
            "27/27 [==============================] - ETA: 0s - loss: 0.7145 - accuracy: 0.5036 - auc_1: 0.5324\n",
            "Epoch 1: saving model to /content/chekpoint/cp.ckpt\n",
            "27/27 [==============================] - 11s 243ms/step - loss: 0.7145 - accuracy: 0.5036 - auc_1: 0.5324 - val_loss: 0.6935 - val_accuracy: 0.4375 - val_auc_1: 0.5342\n",
            "Epoch 2/30\n",
            "27/27 [==============================] - ETA: 0s - loss: 0.6780 - accuracy: 0.5629 - auc_1: 0.5995\n",
            "Epoch 2: saving model to /content/chekpoint/cp.ckpt\n",
            "27/27 [==============================] - 4s 153ms/step - loss: 0.6780 - accuracy: 0.5629 - auc_1: 0.5995 - val_loss: 0.6914 - val_accuracy: 0.4583 - val_auc_1: 0.5356\n",
            "Epoch 3/30\n",
            "27/27 [==============================] - ETA: 0s - loss: 0.6709 - accuracy: 0.5819 - auc_1: 0.6158\n",
            "Epoch 3: saving model to /content/chekpoint/cp.ckpt\n",
            "27/27 [==============================] - 4s 150ms/step - loss: 0.6709 - accuracy: 0.5819 - auc_1: 0.6158 - val_loss: 0.7160 - val_accuracy: 0.4271 - val_auc_1: 0.5320\n",
            "Epoch 4/30\n",
            "27/27 [==============================] - ETA: 0s - loss: 0.6769 - accuracy: 0.5523 - auc_1: 0.6005\n",
            "Epoch 4: saving model to /content/chekpoint/cp.ckpt\n",
            "27/27 [==============================] - 4s 149ms/step - loss: 0.6769 - accuracy: 0.5523 - auc_1: 0.6005 - val_loss: 0.6421 - val_accuracy: 0.6979 - val_auc_1: 0.7260\n",
            "Epoch 5/30\n",
            "27/27 [==============================] - ETA: 0s - loss: 0.6522 - accuracy: 0.6200 - auc_1: 0.6683\n",
            "Epoch 5: saving model to /content/chekpoint/cp.ckpt\n",
            "27/27 [==============================] - 4s 161ms/step - loss: 0.6522 - accuracy: 0.6200 - auc_1: 0.6683 - val_loss: 0.6324 - val_accuracy: 0.6979 - val_auc_1: 0.7419\n",
            "Epoch 6/30\n",
            "27/27 [==============================] - ETA: 0s - loss: 0.6426 - accuracy: 0.6378 - auc_1: 0.6880\n",
            "Epoch 6: saving model to /content/chekpoint/cp.ckpt\n",
            "27/27 [==============================] - 4s 150ms/step - loss: 0.6426 - accuracy: 0.6378 - auc_1: 0.6880 - val_loss: 0.6750 - val_accuracy: 0.6146 - val_auc_1: 0.6050\n",
            "Epoch 7/30\n",
            "27/27 [==============================] - ETA: 0s - loss: 0.6394 - accuracy: 0.6366 - auc_1: 0.6823\n",
            "Epoch 7: saving model to /content/chekpoint/cp.ckpt\n",
            "27/27 [==============================] - 4s 151ms/step - loss: 0.6394 - accuracy: 0.6366 - auc_1: 0.6823 - val_loss: 0.6303 - val_accuracy: 0.6250 - val_auc_1: 0.7045\n",
            "Epoch 8/30\n",
            "27/27 [==============================] - ETA: 0s - loss: 0.6437 - accuracy: 0.6211 - auc_1: 0.6742\n",
            "Epoch 8: saving model to /content/chekpoint/cp.ckpt\n",
            "27/27 [==============================] - 4s 154ms/step - loss: 0.6437 - accuracy: 0.6211 - auc_1: 0.6742 - val_loss: 0.6122 - val_accuracy: 0.6458 - val_auc_1: 0.7520\n",
            "Epoch 9/30\n",
            "27/27 [==============================] - ETA: 0s - loss: 0.6148 - accuracy: 0.6912 - auc_1: 0.7329\n",
            "Epoch 9: saving model to /content/chekpoint/cp.ckpt\n",
            "27/27 [==============================] - 4s 154ms/step - loss: 0.6148 - accuracy: 0.6912 - auc_1: 0.7329 - val_loss: 0.6790 - val_accuracy: 0.5833 - val_auc_1: 0.6217\n",
            "Epoch 10/30\n",
            "27/27 [==============================] - ETA: 0s - loss: 0.6099 - accuracy: 0.6793 - auc_1: 0.7361\n",
            "Epoch 10: saving model to /content/chekpoint/cp.ckpt\n",
            "27/27 [==============================] - 4s 152ms/step - loss: 0.6099 - accuracy: 0.6793 - auc_1: 0.7361 - val_loss: 0.6038 - val_accuracy: 0.6667 - val_auc_1: 0.7350\n",
            "Epoch 11/30\n",
            "27/27 [==============================] - ETA: 0s - loss: 0.6042 - accuracy: 0.6556 - auc_1: 0.7334\n",
            "Epoch 11: saving model to /content/chekpoint/cp.ckpt\n",
            "27/27 [==============================] - 4s 152ms/step - loss: 0.6042 - accuracy: 0.6556 - auc_1: 0.7334 - val_loss: 0.5867 - val_accuracy: 0.6250 - val_auc_1: 0.7566\n",
            "Epoch 12/30\n",
            "26/27 [===========================>..] - ETA: 0s - loss: 0.5656 - accuracy: 0.7320 - auc_1: 0.7903\n",
            "Epoch 12: saving model to /content/chekpoint/cp.ckpt\n",
            "27/27 [==============================] - 4s 151ms/step - loss: 0.5688 - accuracy: 0.7292 - auc_1: 0.7860 - val_loss: 0.6853 - val_accuracy: 0.6250 - val_auc_1: 0.6454\n",
            "Epoch 13/30\n",
            "27/27 [==============================] - ETA: 0s - loss: 0.5403 - accuracy: 0.7268 - auc_1: 0.8082\n",
            "Epoch 13: saving model to /content/chekpoint/cp.ckpt\n",
            "27/27 [==============================] - 4s 152ms/step - loss: 0.5403 - accuracy: 0.7268 - auc_1: 0.8082 - val_loss: 0.5531 - val_accuracy: 0.6771 - val_auc_1: 0.7861\n",
            "Epoch 14/30\n",
            "27/27 [==============================] - ETA: 0s - loss: 0.5625 - accuracy: 0.7043 - auc_1: 0.7814\n",
            "Epoch 14: saving model to /content/chekpoint/cp.ckpt\n",
            "27/27 [==============================] - 4s 154ms/step - loss: 0.5625 - accuracy: 0.7043 - auc_1: 0.7814 - val_loss: 0.5727 - val_accuracy: 0.6979 - val_auc_1: 0.7648\n",
            "Epoch 15/30\n",
            "27/27 [==============================] - ETA: 0s - loss: 0.5666 - accuracy: 0.7102 - auc_1: 0.7774\n",
            "Epoch 15: saving model to /content/chekpoint/cp.ckpt\n",
            "27/27 [==============================] - 4s 153ms/step - loss: 0.5666 - accuracy: 0.7102 - auc_1: 0.7774 - val_loss: 0.5748 - val_accuracy: 0.6667 - val_auc_1: 0.7605\n",
            "Epoch 16/30\n",
            "27/27 [==============================] - ETA: 0s - loss: 0.5408 - accuracy: 0.7352 - auc_1: 0.8053\n",
            "Epoch 16: saving model to /content/chekpoint/cp.ckpt\n",
            "27/27 [==============================] - 5s 205ms/step - loss: 0.5408 - accuracy: 0.7352 - auc_1: 0.8053 - val_loss: 0.5544 - val_accuracy: 0.6667 - val_auc_1: 0.7806\n",
            "Epoch 17/30\n",
            "27/27 [==============================] - ETA: 0s - loss: 0.5155 - accuracy: 0.7518 - auc_1: 0.8259\n",
            "Epoch 17: saving model to /content/chekpoint/cp.ckpt\n",
            "27/27 [==============================] - 4s 154ms/step - loss: 0.5155 - accuracy: 0.7518 - auc_1: 0.8259 - val_loss: 0.5453 - val_accuracy: 0.6979 - val_auc_1: 0.7925\n",
            "Epoch 18/30\n",
            "27/27 [==============================] - ETA: 0s - loss: 0.5139 - accuracy: 0.7553 - auc_1: 0.8304\n",
            "Epoch 18: saving model to /content/chekpoint/cp.ckpt\n",
            "27/27 [==============================] - 4s 152ms/step - loss: 0.5139 - accuracy: 0.7553 - auc_1: 0.8304 - val_loss: 0.5334 - val_accuracy: 0.7083 - val_auc_1: 0.8057\n",
            "Epoch 19/30\n",
            "27/27 [==============================] - ETA: 0s - loss: 0.5309 - accuracy: 0.7411 - auc_1: 0.8149\n",
            "Epoch 19: saving model to /content/chekpoint/cp.ckpt\n",
            "27/27 [==============================] - 4s 154ms/step - loss: 0.5309 - accuracy: 0.7411 - auc_1: 0.8149 - val_loss: 0.5445 - val_accuracy: 0.6979 - val_auc_1: 0.7947\n",
            "Epoch 20/30\n",
            "27/27 [==============================] - ETA: 0s - loss: 0.5075 - accuracy: 0.7672 - auc_1: 0.8347\n",
            "Epoch 20: saving model to /content/chekpoint/cp.ckpt\n",
            "27/27 [==============================] - 4s 155ms/step - loss: 0.5075 - accuracy: 0.7672 - auc_1: 0.8347 - val_loss: 0.5187 - val_accuracy: 0.7188 - val_auc_1: 0.8190\n",
            "Epoch 21/30\n",
            "27/27 [==============================] - ETA: 0s - loss: 0.4893 - accuracy: 0.7660 - auc_1: 0.8454\n",
            "Epoch 21: saving model to /content/chekpoint/cp.ckpt\n",
            "27/27 [==============================] - 4s 153ms/step - loss: 0.4893 - accuracy: 0.7660 - auc_1: 0.8454 - val_loss: 0.5122 - val_accuracy: 0.7604 - val_auc_1: 0.8251\n",
            "Epoch 22/30\n",
            "27/27 [==============================] - ETA: 0s - loss: 0.5120 - accuracy: 0.7589 - auc_1: 0.8285\n",
            "Epoch 22: saving model to /content/chekpoint/cp.ckpt\n",
            "27/27 [==============================] - 4s 154ms/step - loss: 0.5120 - accuracy: 0.7589 - auc_1: 0.8285 - val_loss: 0.8204 - val_accuracy: 0.5417 - val_auc_1: 0.6517\n",
            "Epoch 23/30\n",
            "27/27 [==============================] - ETA: 0s - loss: 0.5340 - accuracy: 0.7363 - auc_1: 0.8111\n",
            "Epoch 23: saving model to /content/chekpoint/cp.ckpt\n",
            "27/27 [==============================] - 4s 150ms/step - loss: 0.5340 - accuracy: 0.7363 - auc_1: 0.8111 - val_loss: 0.5148 - val_accuracy: 0.7604 - val_auc_1: 0.8286\n",
            "Epoch 24/30\n",
            "27/27 [==============================] - ETA: 0s - loss: 0.4814 - accuracy: 0.7637 - auc_1: 0.8517\n",
            "Epoch 24: saving model to /content/chekpoint/cp.ckpt\n",
            "27/27 [==============================] - 4s 151ms/step - loss: 0.4814 - accuracy: 0.7637 - auc_1: 0.8517 - val_loss: 0.5833 - val_accuracy: 0.6667 - val_auc_1: 0.7662\n",
            "Epoch 25/30\n",
            "27/27 [==============================] - ETA: 0s - loss: 0.4890 - accuracy: 0.7803 - auc_1: 0.8466\n",
            "Epoch 25: saving model to /content/chekpoint/cp.ckpt\n",
            "27/27 [==============================] - 4s 149ms/step - loss: 0.4890 - accuracy: 0.7803 - auc_1: 0.8466 - val_loss: 0.6116 - val_accuracy: 0.6458 - val_auc_1: 0.7457\n",
            "Epoch 26/30\n",
            "27/27 [==============================] - ETA: 0s - loss: 0.4650 - accuracy: 0.7886 - auc_1: 0.8624\n",
            "Epoch 26: saving model to /content/chekpoint/cp.ckpt\n",
            "27/27 [==============================] - 4s 152ms/step - loss: 0.4650 - accuracy: 0.7886 - auc_1: 0.8624 - val_loss: 0.4957 - val_accuracy: 0.7708 - val_auc_1: 0.8380\n",
            "Epoch 27/30\n",
            "27/27 [==============================] - ETA: 0s - loss: 0.4870 - accuracy: 0.7660 - auc_1: 0.8485\n",
            "Epoch 27: saving model to /content/chekpoint/cp.ckpt\n",
            "27/27 [==============================] - 4s 151ms/step - loss: 0.4870 - accuracy: 0.7660 - auc_1: 0.8485 - val_loss: 0.4778 - val_accuracy: 0.7812 - val_auc_1: 0.8528\n",
            "Epoch 28/30\n",
            "27/27 [==============================] - ETA: 0s - loss: 0.4516 - accuracy: 0.8017 - auc_1: 0.8734\n",
            "Epoch 28: saving model to /content/chekpoint/cp.ckpt\n",
            "27/27 [==============================] - 4s 153ms/step - loss: 0.4516 - accuracy: 0.8017 - auc_1: 0.8734 - val_loss: 0.4966 - val_accuracy: 0.7500 - val_auc_1: 0.8392\n",
            "Epoch 29/30\n",
            "27/27 [==============================] - ETA: 0s - loss: 0.4651 - accuracy: 0.7838 - auc_1: 0.8614\n",
            "Epoch 29: saving model to /content/chekpoint/cp.ckpt\n",
            "27/27 [==============================] - 4s 155ms/step - loss: 0.4651 - accuracy: 0.7838 - auc_1: 0.8614 - val_loss: 0.4513 - val_accuracy: 0.7812 - val_auc_1: 0.8691\n",
            "Epoch 30/30\n",
            "27/27 [==============================] - ETA: 0s - loss: 0.5011 - accuracy: 0.7470 - auc_1: 0.8350\n",
            "Epoch 30: saving model to /content/chekpoint/cp.ckpt\n",
            "27/27 [==============================] - 4s 161ms/step - loss: 0.5011 - accuracy: 0.7470 - auc_1: 0.8350 - val_loss: 0.4676 - val_accuracy: 0.7917 - val_auc_1: 0.8646\n"
          ]
        }
      ]
    },
    {
      "cell_type": "code",
      "source": [
        "model.evaluate(validation)"
      ],
      "metadata": {
        "colab": {
          "base_uri": "https://localhost:8080/"
        },
        "id": "5RkY2OIKh691",
        "outputId": "f47bd327-b768-4e69-eeca-4f4c8f35f9ec"
      },
      "execution_count": null,
      "outputs": [
        {
          "output_type": "stream",
          "name": "stdout",
          "text": [
            "12/12 [==============================] - 1s 99ms/step - loss: 0.4588 - accuracy: 0.7867 - auc_1: 0.8709\n"
          ]
        },
        {
          "output_type": "execute_result",
          "data": {
            "text/plain": [
              "[0.45875465869903564, 0.7867035865783691, 0.8709033727645874]"
            ]
          },
          "metadata": {},
          "execution_count": 28
        }
      ]
    },
    {
      "cell_type": "code",
      "source": [
        "plt.figure(figsize=[6,4])\n",
        "plt.plot(history.history['loss'], 'black', linewidth=2.0)\n",
        "plt.plot(history.history['val_loss'], 'green', linewidth=2.0)\n",
        "plt.legend(['Training Loss', 'Validation Loss'], fontsize=14)\n",
        "plt.xlabel('Epochs', fontsize=10)\n",
        "plt.ylabel('Loss', fontsize=10)\n",
        "plt.title('Loss Curves', fontsize=12)"
      ],
      "metadata": {
        "colab": {
          "base_uri": "https://localhost:8080/",
          "height": 313
        },
        "id": "4m2jv7GJh-yi",
        "outputId": "e7b1a6e7-5d71-4d7a-d890-78746177ac06"
      },
      "execution_count": null,
      "outputs": [
        {
          "output_type": "execute_result",
          "data": {
            "text/plain": [
              "Text(0.5, 1.0, 'Loss Curves')"
            ]
          },
          "metadata": {},
          "execution_count": 29
        },
        {
          "output_type": "display_data",
          "data": {
            "text/plain": [
              "<Figure size 432x288 with 1 Axes>"
            ],
            "image/png": "[encoded data removed]"
          },
          "metadata": {
            "needs_background": "light"
          }
        }
      ]
    },
    {
      "cell_type": "code",
      "source": [
        "plt.figure(figsize=[6,4])\n",
        "plt.plot(history.history['accuracy'], 'black', linewidth=2.0)\n",
        "plt.plot(history.history['val_accuracy'], 'green', linewidth=2.0)\n",
        "plt.legend(['Training acc', 'Validation acc'], fontsize=14)\n",
        "plt.xlabel('Epochs', fontsize=10)\n",
        "plt.ylabel('Acc', fontsize=10)\n",
        "plt.title('Accuracy Curves', fontsize=12)"
      ],
      "metadata": {
        "colab": {
          "base_uri": "https://localhost:8080/",
          "height": 313
        },
        "id": "jdOzvyapiA45",
        "outputId": "a455f42e-27f5-4218-df63-a198fe135cc4"
      },
      "execution_count": null,
      "outputs": [
        {
          "output_type": "execute_result",
          "data": {
            "text/plain": [
              "Text(0.5, 1.0, 'Accuracy Curves')"
            ]
          },
          "metadata": {},
          "execution_count": 30
        },
        {
          "output_type": "display_data",
          "data": {
            "text/plain": [
              "<Figure size 432x288 with 1 Axes>"
            ],
            "image/png": "[encoded data removed]"
          },
          "metadata": {
            "needs_background": "light"
          }
        }
      ]
    },
    {
      "cell_type": "code",
      "source": [
        "plt.figure(figsize=[6,4])\n",
        "plt.plot(history.history['auc_1'], 'black', linewidth=2.0)\n",
        "plt.plot(history.history['val_auc_1'], 'green', linewidth=2.0)\n",
        "plt.legend(['Training auc', 'Validation auc'], fontsize=14)\n",
        "plt.xlabel('Epochs', fontsize=10)\n",
        "plt.ylabel('AUC', fontsize=10)\n",
        "plt.title('AUC', fontsize=12)"
      ],
      "metadata": {
        "colab": {
          "base_uri": "https://localhost:8080/",
          "height": 313
        },
        "id": "uOO3nM7PiC3y",
        "outputId": "9db34df0-5dc8-4109-8ee7-5704548725d3"
      },
      "execution_count": null,
      "outputs": [
        {
          "output_type": "execute_result",
          "data": {
            "text/plain": [
              "Text(0.5, 1.0, 'AUC')"
            ]
          },
          "metadata": {},
          "execution_count": 32
        },
        {
          "output_type": "display_data",
          "data": {
            "text/plain": [
              "<Figure size 432x288 with 1 Axes>"
            ],
            "image/png": "[encoded data removed]"
          },
          "metadata": {
            "needs_background": "light"
          }
        }
      ]
    },
    {
      "cell_type": "code",
      "source": [
        "model.save(\"smile.h5\")"
      ],
      "metadata": {
        "id": "EbpvMA33iEa_"
      },
      "execution_count": null,
      "outputs": []
    },
    {
      "cell_type": "markdown",
      "source": [
        "# **Time to using cv2**"
      ],
      "metadata": {
        "id": "Kp3J2LxojoFg"
      }
    },
    {
      "cell_type": "markdown",
      "source": [
        "Unfortunatelly in colab can't use VideoCapture , however u can run all that code on u own machine "
      ],
      "metadata": {
        "id": "6i0VWSgYMrxz"
      }
    },
    {
      "cell_type": "code",
      "source": [
        "model_cv = load_model(\"/content/smile.h5\")"
      ],
      "metadata": {
        "id": "C6jxnZipjsuM"
      },
      "execution_count": null,
      "outputs": []
    },
    {
      "cell_type": "code",
      "source": [
        "labels_dict={0:'not smile',1:'smile'}\n",
        "color_dict={0:(0,0,255),1:(0,255,0)}\n",
        "\n",
        "size = 2\n",
        "\n",
        "webcam = cv.VideoCapture(0)"
      ],
      "metadata": {
        "id": "AT4r3-t5j2FV"
      },
      "execution_count": null,
      "outputs": []
    },
    {
      "cell_type": "code",
      "source": [
        "cascade = cv.CascadeClassifier(\"/content/opencv/data/haarcascades/haarcascade_frontalcatface.xml\")"
      ],
      "metadata": {
        "id": "2UafkmnSkCDD"
      },
      "execution_count": null,
      "outputs": []
    },
    {
      "cell_type": "code",
      "source": [
        "while True:\n",
        "    (rval, im) = webcam.read()\n",
        "    im=cv.flip(im,1,1) #Flip to act as a mirror\n",
        "\n",
        "    w = int(im.shape[1] // size)\n",
        "    h = int(im.shape[0] // size)\n",
        "\n",
        "    dimensions = (w , h)\n",
        "    mini = cv.resize(im, dimensions)\n",
        "\n",
        "    faces = cascade.detectMultiScale(mini)\n",
        "\n",
        "    for f in faces:\n",
        "        (x, y, w, h) = [v * size for v in f] #Scale the shapesize backup\n",
        "        \n",
        "        x = int(x)\n",
        "        y = int(y)\n",
        "        w = int(w)\n",
        "        h = int(h)\n",
        "\n",
        "        face_img = im[y:y+h, x:x+w]\n",
        "        resized=cv.resize(face_img,(60,60))\n",
        "        normalized=resized/255.0\n",
        "        reshaped=np.reshape(normalized,(1,60,60,3))\n",
        "        reshaped = np.vstack([reshaped])\n",
        "        result=model.predict(reshaped)\n",
        "        \n",
        "        label=np.argmax(result,axis=1)[0]\n",
        "      \n",
        "        cv.rectangle(im,(x,y),(x+w,y+h),color_dict[label],2)\n",
        "        cv.rectangle(im,(x,y-40),(x+w,y),color_dict[label],-1)\n",
        "        cv.putText(im, labels_dict[label], (x, y-10),cv.FONT_HERSHEY_SIMPLEX,0.8,(255,255,255),2)\n",
        "        \n",
        "    cv2_imshow(im)\n",
        "    key = cv.waitKey(10)\n",
        "    if key == 27: #The Esc key\n",
        "        break\n",
        "\n",
        "webcam.release()\n",
        "\n",
        "cv.destroyAllWindows()"
      ],
      "metadata": {
        "colab": {
          "base_uri": "https://localhost:8080/",
          "height": 240
        },
        "id": "73lc8M-ooOup",
        "outputId": "b6a552b7-933e-43b7-a97b-3edb56225efb"
      },
      "execution_count": null,
      "outputs": [
        {
          "output_type": "error",
          "ename": "AttributeError",
          "evalue": "ignored",
          "traceback": [
            "\u001b[0;31m---------------------------------------------------------------------------\u001b[0m",
            "\u001b[0;31mAttributeError\u001b[0m                            Traceback (most recent call last)",
            "\u001b[0;32m<ipython-input-42-b5b449611496>\u001b[0m in \u001b[0;36m<module>\u001b[0;34m\u001b[0m\n\u001b[1;32m      3\u001b[0m     \u001b[0mim\u001b[0m\u001b[0;34m=\u001b[0m\u001b[0mcv\u001b[0m\u001b[0;34m.\u001b[0m\u001b[0mflip\u001b[0m\u001b[0;34m(\u001b[0m\u001b[0mim\u001b[0m\u001b[0;34m,\u001b[0m\u001b[0;36m1\u001b[0m\u001b[0;34m,\u001b[0m\u001b[0;36m1\u001b[0m\u001b[0;34m)\u001b[0m \u001b[0;31m#Flip to act as a mirror\u001b[0m\u001b[0;34m\u001b[0m\u001b[0;34m\u001b[0m\u001b[0m\n\u001b[1;32m      4\u001b[0m \u001b[0;34m\u001b[0m\u001b[0m\n\u001b[0;32m----> 5\u001b[0;31m     \u001b[0mw\u001b[0m \u001b[0;34m=\u001b[0m \u001b[0mim\u001b[0m\u001b[0;34m.\u001b[0m\u001b[0mshape\u001b[0m\u001b[0;34m[\u001b[0m\u001b[0;36m1\u001b[0m\u001b[0;34m]\u001b[0m \u001b[0;34m//\u001b[0m \u001b[0msize\u001b[0m\u001b[0;34m\u001b[0m\u001b[0;34m\u001b[0m\u001b[0m\n\u001b[0m\u001b[1;32m      6\u001b[0m     \u001b[0mh\u001b[0m \u001b[0;34m=\u001b[0m \u001b[0mim\u001b[0m\u001b[0;34m.\u001b[0m\u001b[0mshape\u001b[0m\u001b[0;34m[\u001b[0m\u001b[0;36m0\u001b[0m\u001b[0;34m]\u001b[0m \u001b[0;34m//\u001b[0m \u001b[0msize\u001b[0m\u001b[0;34m\u001b[0m\u001b[0;34m\u001b[0m\u001b[0m\n\u001b[1;32m      7\u001b[0m \u001b[0;34m\u001b[0m\u001b[0m\n",
            "\u001b[0;31mAttributeError\u001b[0m: 'NoneType' object has no attribute 'shape'"
          ]
        }
      ]
    }
  ]
}